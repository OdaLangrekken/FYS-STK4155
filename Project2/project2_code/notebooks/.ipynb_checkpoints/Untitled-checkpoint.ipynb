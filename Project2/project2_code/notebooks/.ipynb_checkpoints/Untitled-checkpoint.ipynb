{
 "cells": [
  {
   "cell_type": "code",
   "execution_count": 57,
   "id": "5eda586e",
   "metadata": {},
   "outputs": [],
   "source": [
    "import os\n",
    "import sys\n",
    "\n",
    "current_path = os.getcwd()\n",
    "sys.path.append(current_path + '\\..')\n",
    "\n",
    "import numpy as np\n",
    "import pandas as pd\n",
    "import matplotlib.pyplot as plt\n",
    "from sklearn.preprocessing import StandardScaler\n",
    "from sklearn.utils import shuffle\n",
    "\n",
    "# Import self-made modules\n",
    "from project2_code.linear_model import LinearModel\n",
    "from project2_code.make_and_prepare_data import FrankeFunction, create_design_matrix, create_design_matrix_1d\n",
    "from project2_code.model_selection import R2, MSE\n",
    "\n",
    "from project2_code.make_and_prepare_data import simple_polynomial\n",
    "from project2_code.optimization_methods import gradient_descent"
   ]
  },
  {
   "cell_type": "code",
   "execution_count": 2,
   "id": "f4b7fa90",
   "metadata": {},
   "outputs": [],
   "source": [
    "n = 1000\n",
    "x = np.random.rand(n)\n",
    "\n",
    "# Create polynomial function of x, up to a degree of 5\n",
    "y = simple_polynomial(x, polynomial_degree = 2)"
   ]
  },
  {
   "cell_type": "code",
   "execution_count": 3,
   "id": "874d66d8",
   "metadata": {},
   "outputs": [],
   "source": [
    "X = create_design_matrix_1d(x, 2)\n",
    "X.insert(0, 'bias', 1)"
   ]
  },
  {
   "cell_type": "code",
   "execution_count": 50,
   "id": "2068aeaa",
   "metadata": {},
   "outputs": [],
   "source": [
    "coeff3, cost3 = gradient_descent(X, y, alpha=0.3, max_iterations=2000, return_cost=True)\n",
    "coeff1, cost1 = gradient_descent(X, y, alpha=0.1, max_iterations=2000, return_cost=True)\n",
    "coeff5, cost5 = gradient_descent(X, y, alpha=0.5, max_iterations=2000, return_cost=True)\n",
    "coeff7, cost7 = gradient_descent(X, y, alpha=0.7, max_iterations=2000, return_cost=True)"
   ]
  },
  {
   "cell_type": "code",
   "execution_count": 51,
   "id": "28b61f1d",
   "metadata": {},
   "outputs": [
    {
     "data": {
      "image/png": "[encoded data removed]",
      "text/plain": [
       "<Figure size 432x288 with 1 Axes>"
      ]
     },
     "metadata": {
      "needs_background": "light"
     },
     "output_type": "display_data"
    }
   ],
   "source": [
    "plt.plot(range(2000), cost3, label='0.3');\n",
    "plt.plot(range(2000), cost1, label='0.1');\n",
    "plt.plot(range(2000), cost5, label='0.5');\n",
    "plt.plot(range(2000), cost7, label='0.7');\n",
    "plt.yscale('log');\n",
    "plt.legend();"
   ]
  },
  {
   "cell_type": "code",
   "execution_count": 52,
   "id": "5a4277e9",
   "metadata": {},
   "outputs": [
    {
     "data": {
      "text/plain": [
       "bias   -5.552236\n",
       "x^1     7.370935\n",
       "x^2    -5.823298\n",
       "dtype: float64"
      ]
     },
     "execution_count": 52,
     "metadata": {},
     "output_type": "execute_result"
    }
   ],
   "source": [
    "coeff5"
   ]
  },
  {
   "cell_type": "code",
   "execution_count": 53,
   "id": "46e84953",
   "metadata": {},
   "outputs": [
    {
     "data": {
      "text/plain": [
       "bias   -5.559151\n",
       "x^1     7.409193\n",
       "x^2    -5.860338\n",
       "dtype: float64"
      ]
     },
     "execution_count": 53,
     "metadata": {},
     "output_type": "execute_result"
    }
   ],
   "source": [
    "coeff7"
   ]
  },
  {
   "cell_type": "code",
   "execution_count": 15,
   "id": "dcf0fbb6",
   "metadata": {},
   "outputs": [
    {
     "data": {
      "text/plain": [
       "0   -5.560137\n",
       "1    7.414646\n",
       "2   -5.865617\n",
       "dtype: float64"
      ]
     },
     "execution_count": 15,
     "metadata": {},
     "output_type": "execute_result"
    }
   ],
   "source": [
    "np.linalg.inv(X.T @ X) @ X.T @ y"
   ]
  },
  {
   "cell_type": "code",
   "execution_count": 6,
   "id": "dd6aa906",
   "metadata": {},
   "outputs": [],
   "source": [
    "def gradient_linear(X, y, beta):\n",
    "    \"\"\"\n",
    "    Function that returns the gradient of the squared error cost function\n",
    "    \"\"\"\n",
    "    n = len(X)\n",
    "    return (2/n) * X.T @ (X @ beta - y)"
   ]
  },
  {
   "cell_type": "code",
   "execution_count": 61,
   "id": "7d76fa2c",
   "metadata": {},
   "outputs": [],
   "source": [
    "def stochastic_gradient_descent(X, y, alpha, num_batches, epochs, random_state=None):\n",
    "    n = len(X)  # number of rows\n",
    "    batch_size = int(n/num_batches)\n",
    "      \n",
    "    # Initialize random coefficients\n",
    "    coeff_num = X.shape[1] \n",
    "    coeffs = np.random.randn(coeff_num)\n",
    "    \n",
    "    for epoch in range(epochs):\n",
    "        # Shuffle data\n",
    "        X_shuffle, y_shuffle = shuffle(X, y, random_state=random_state)\n",
    "        # Do gradient descent for each batch\n",
    "        for i in range(num_batches):\n",
    "            Xi = X[i:i+batch_size]\n",
    "            yi = y[i:i+batch_size]\n",
    "            gradient = gradient_linear(Xi, yi, coeffs)\n",
    "            # Update coefficients\n",
    "            coeffs -= alpha*gradient\n",
    "            \n",
    "    return coeffs"
   ]
  },
  {
   "cell_type": "code",
   "execution_count": 64,
   "id": "da7217ee",
   "metadata": {},
   "outputs": [
    {
     "data": {
      "text/plain": [
       "bias   -5.457875\n",
       "x^1     6.848850\n",
       "x^2    -5.317837\n",
       "dtype: float64"
      ]
     },
     "execution_count": 64,
     "metadata": {},
     "output_type": "execute_result"
    }
   ],
   "source": [
    "stochastic_gradient_descent(X, y, alpha=0.5, num_batches=1, epochs=1000)"
   ]
  },
  {
   "cell_type": "code",
   "execution_count": 65,
   "id": "a72441ff",
   "metadata": {},
   "outputs": [
    {
     "data": {
      "text/plain": [
       "bias   -5.476584\n",
       "x^1     6.952363\n",
       "x^2    -5.418054\n",
       "dtype: float64"
      ]
     },
     "execution_count": 65,
     "metadata": {},
     "output_type": "execute_result"
    }
   ],
   "source": [
    "gradient_descent(X, y, alpha=0.5, max_iterations=1000)"
   ]
  }
 ],
 "metadata": {
  "kernelspec": {
   "display_name": "Python 3",
   "language": "python",
   "name": "python3"
  },
  "language_info": {
   "codemirror_mode": {
    "name": "ipython",
    "version": 3
   },
   "file_extension": ".py",
   "mimetype": "text/x-python",
   "name": "python",
   "nbconvert_exporter": "python",
   "pygments_lexer": "ipython3",
   "version": "3.8.8"
  }
 },
 "nbformat": 4,
 "nbformat_minor": 5
}
