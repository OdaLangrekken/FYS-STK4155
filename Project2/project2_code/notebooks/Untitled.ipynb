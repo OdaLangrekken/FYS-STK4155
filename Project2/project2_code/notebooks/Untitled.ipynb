{
 "cells": [
  {
   "cell_type": "code",
   "execution_count": 57,
   "id": "5eda586e",
   "metadata": {},
   "outputs": [],
   "source": [
    "import os\n",
    "import sys\n",
    "\n",
    "current_path = os.getcwd()\n",
    "sys.path.append(current_path + '\\..')\n",
    "\n",
    "import numpy as np\n",
    "import pandas as pd\n",
    "import matplotlib.pyplot as plt\n",
    "from sklearn.preprocessing import StandardScaler\n",
    "\n",
    "# Import self-made modules\n",
    "from project2_code.linear_model import LinearModel\n",
    "from project2_code.make_and_prepare_data import FrankeFunction, create_design_matrix, create_design_matrix_1d\n",
    "from project2_code.model_selection import R2, MSE\n",
    "\n",
    "from project2_code.make_and_prepare_data import simple_polynomial\n",
    "\n"
   ]
  },
  {
   "cell_type": "code",
   "execution_count": 116,
   "id": "f4b7fa90",
   "metadata": {},
   "outputs": [],
   "source": [
    "x = np.random.uniform(0, 1, size = 1000)\n",
    "#x = np.linspace(0, 10, 1000)\n",
    "\n",
    "# Create polynomial function of x, up to a degree of 5\n",
    "y = simple_polynomial(x, polynomial_degree = 5)\n",
    "y = 2 + 3*x + 4*x**2\n",
    "\n",
    "#plt.plot(x, y)\n",
    "#plt.show()"
   ]
  },
  {
   "cell_type": "code",
   "execution_count": 132,
   "id": "874d66d8",
   "metadata": {},
   "outputs": [
    {
     "data": {
      "text/html": [
       "<div>\n",
       "<style scoped>\n",
       "    .dataframe tbody tr th:only-of-type {\n",
       "        vertical-align: middle;\n",
       "    }\n",
       "\n",
       "    .dataframe tbody tr th {\n",
       "        vertical-align: top;\n",
       "    }\n",
       "\n",
       "    .dataframe thead th {\n",
       "        text-align: right;\n",
       "    }\n",
       "</style>\n",
       "<table border=\"1\" class=\"dataframe\">\n",
       "  <thead>\n",
       "    <tr style=\"text-align: right;\">\n",
       "      <th></th>\n",
       "      <th>bias</th>\n",
       "      <th>x^1</th>\n",
       "      <th>x^2</th>\n",
       "    </tr>\n",
       "  </thead>\n",
       "  <tbody>\n",
       "    <tr>\n",
       "      <th>0</th>\n",
       "      <td>1</td>\n",
       "      <td>0.879937</td>\n",
       "      <td>0.774289</td>\n",
       "    </tr>\n",
       "    <tr>\n",
       "      <th>1</th>\n",
       "      <td>1</td>\n",
       "      <td>0.274086</td>\n",
       "      <td>0.075123</td>\n",
       "    </tr>\n",
       "    <tr>\n",
       "      <th>2</th>\n",
       "      <td>1</td>\n",
       "      <td>0.414235</td>\n",
       "      <td>0.171591</td>\n",
       "    </tr>\n",
       "    <tr>\n",
       "      <th>3</th>\n",
       "      <td>1</td>\n",
       "      <td>0.296080</td>\n",
       "      <td>0.087663</td>\n",
       "    </tr>\n",
       "    <tr>\n",
       "      <th>4</th>\n",
       "      <td>1</td>\n",
       "      <td>0.628788</td>\n",
       "      <td>0.395374</td>\n",
       "    </tr>\n",
       "    <tr>\n",
       "      <th>...</th>\n",
       "      <td>...</td>\n",
       "      <td>...</td>\n",
       "      <td>...</td>\n",
       "    </tr>\n",
       "    <tr>\n",
       "      <th>995</th>\n",
       "      <td>1</td>\n",
       "      <td>0.761534</td>\n",
       "      <td>0.579933</td>\n",
       "    </tr>\n",
       "    <tr>\n",
       "      <th>996</th>\n",
       "      <td>1</td>\n",
       "      <td>0.415779</td>\n",
       "      <td>0.172872</td>\n",
       "    </tr>\n",
       "    <tr>\n",
       "      <th>997</th>\n",
       "      <td>1</td>\n",
       "      <td>0.451752</td>\n",
       "      <td>0.204080</td>\n",
       "    </tr>\n",
       "    <tr>\n",
       "      <th>998</th>\n",
       "      <td>1</td>\n",
       "      <td>0.819773</td>\n",
       "      <td>0.672028</td>\n",
       "    </tr>\n",
       "    <tr>\n",
       "      <th>999</th>\n",
       "      <td>1</td>\n",
       "      <td>0.973271</td>\n",
       "      <td>0.947257</td>\n",
       "    </tr>\n",
       "  </tbody>\n",
       "</table>\n",
       "<p>1000 rows × 3 columns</p>\n",
       "</div>"
      ],
      "text/plain": [
       "     bias       x^1       x^2\n",
       "0       1  0.879937  0.774289\n",
       "1       1  0.274086  0.075123\n",
       "2       1  0.414235  0.171591\n",
       "3       1  0.296080  0.087663\n",
       "4       1  0.628788  0.395374\n",
       "..    ...       ...       ...\n",
       "995     1  0.761534  0.579933\n",
       "996     1  0.415779  0.172872\n",
       "997     1  0.451752  0.204080\n",
       "998     1  0.819773  0.672028\n",
       "999     1  0.973271  0.947257\n",
       "\n",
       "[1000 rows x 3 columns]"
      ]
     },
     "execution_count": 132,
     "metadata": {},
     "output_type": "execute_result"
    }
   ],
   "source": [
    "X = create_design_matrix_1d(x, 2)\n",
    "X.insert(0, 'bias', 1)\n",
    "X"
   ]
  },
  {
   "cell_type": "code",
   "execution_count": 133,
   "id": "16b7cd60",
   "metadata": {},
   "outputs": [],
   "source": [
    "def gradient_linear(X, y, beta):\n",
    "    n = len(X)\n",
    "    return (2/n) *X.T @ (X @ beta - y)"
   ]
  },
  {
   "cell_type": "code",
   "execution_count": 159,
   "id": "3bdbc0e4",
   "metadata": {},
   "outputs": [],
   "source": [
    "def gradient_descent(X, y, alpha=0.1, max_iterations = 1000):\n",
    "    coeff_num = X.shape[1]\n",
    "    \n",
    "    # Initialize random coefficients\n",
    "    coeffs = np.random.randn(coeff_num,1)\n",
    "    \n",
    "    for iteration in range(max_iterations):\n",
    "        gradient = gradient_linear(X, y, coeffs)\n",
    "        coeffs -= alpha*gradient\n",
    "    return coeffs"
   ]
  },
  {
   "cell_type": "code",
   "execution_count": 160,
   "id": "0e1c2931",
   "metadata": {},
   "outputs": [
    {
     "data": {
      "text/plain": [
       "array([[4.3177637 ],\n",
       "       [2.82737348]])"
      ]
     },
     "execution_count": 160,
     "metadata": {},
     "output_type": "execute_result"
    }
   ],
   "source": [
    "n = 100\n",
    "x = 2*np.random.rand(n,1)\n",
    "y = 4+3*x+np.random.randn(n,1)\n",
    "\n",
    "X = np.c_[np.ones((n,1)), x]\n",
    "\n",
    "gradient_descent(X, y)"
   ]
  },
  {
   "cell_type": "code",
   "execution_count": null,
   "id": "b7217055",
   "metadata": {},
   "outputs": [],
   "source": []
  }
 ],
 "metadata": {
  "kernelspec": {
   "display_name": "Python 3",
   "language": "python",
   "name": "python3"
  },
  "language_info": {
   "codemirror_mode": {
    "name": "ipython",
    "version": 3
   },
   "file_extension": ".py",
   "mimetype": "text/x-python",
   "name": "python",
   "nbconvert_exporter": "python",
   "pygments_lexer": "ipython3",
   "version": "3.8.8"
  }
 },
 "nbformat": 4,
 "nbformat_minor": 5
}
