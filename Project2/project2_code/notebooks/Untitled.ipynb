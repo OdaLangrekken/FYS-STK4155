{
 "cells": [
  {
   "cell_type": "code",
   "execution_count": 1,
   "id": "5eda586e",
   "metadata": {},
   "outputs": [],
   "source": [
    "import os\n",
    "import sys\n",
    "\n",
    "current_path = os.getcwd()\n",
    "sys.path.append(current_path + '\\..')\n",
    "\n",
    "import numpy as np\n",
    "import pandas as pd\n",
    "import matplotlib.pyplot as plt\n",
    "from sklearn.preprocessing import StandardScaler\n",
    "from sklearn.utils import shuffle\n",
    "\n",
    "# Import self-made modules\n",
    "from project2_code.linear_model import LinearModel\n",
    "from project2_code.make_and_prepare_data import FrankeFunction, create_design_matrix, create_design_matrix_1d\n",
    "from project2_code.model_selection import R2, MSE\n",
    "\n",
    "from project2_code.make_and_prepare_data import simple_polynomial\n",
    "from project2_code.optimization_methods import gradient_descent, stochastic_gradient_descent"
   ]
  },
  {
   "cell_type": "code",
   "execution_count": 2,
   "id": "f4b7fa90",
   "metadata": {},
   "outputs": [],
   "source": [
    "n = 1000\n",
    "x = np.random.rand(n)\n",
    "\n",
    "# Create polynomial function of x, up to a degree of 5\n",
    "y = simple_polynomial(x, polynomial_degree = 2)"
   ]
  },
  {
   "cell_type": "code",
   "execution_count": 3,
   "id": "874d66d8",
   "metadata": {},
   "outputs": [],
   "source": [
    "X = create_design_matrix_1d(x, 2)\n",
    "X.insert(0, 'bias', 1)"
   ]
  },
  {
   "cell_type": "code",
   "execution_count": 4,
   "id": "2068aeaa",
   "metadata": {},
   "outputs": [],
   "source": [
    "coeff3, cost3 = gradient_descent(X, y, alpha=0.3, max_iterations=2000, return_cost=True)\n",
    "coeff1, cost1 = gradient_descent(X, y, alpha=0.1, max_iterations=2000, return_cost=True)\n",
    "coeff5, cost5 = gradient_descent(X, y, alpha=0.5, max_iterations=2000, return_cost=True)\n",
    "coeff7, cost7 = gradient_descent(X, y, alpha=0.7, max_iterations=2000, return_cost=True)"
   ]
  },
  {
   "cell_type": "code",
   "execution_count": 5,
   "id": "4cad60e0",
   "metadata": {},
   "outputs": [
    {
     "data": {
      "image/png": "[encoded data removed]",
      "text/plain": [
       "<Figure size 432x288 with 1 Axes>"
      ]
     },
     "metadata": {
      "needs_background": "light"
     },
     "output_type": "display_data"
    }
   ],
   "source": [
    "plt.plot(range(2000), cost3, label='0.3');\n",
    "plt.plot(range(2000), cost1, label='0.1');\n",
    "plt.plot(range(2000), cost5, label='0.5');\n",
    "plt.plot(range(2000), cost7, label='0.7');\n",
    "plt.yscale('log');\n",
    "plt.legend();"
   ]
  },
  {
   "cell_type": "code",
   "execution_count": 6,
   "id": "5c4f166f",
   "metadata": {},
   "outputs": [
    {
     "data": {
      "text/plain": [
       "bias   -5.553482\n",
       "x^1     7.378419\n",
       "x^2    -5.830732\n",
       "dtype: float64"
      ]
     },
     "execution_count": 6,
     "metadata": {},
     "output_type": "execute_result"
    }
   ],
   "source": [
    "coeff5"
   ]
  },
  {
   "cell_type": "code",
   "execution_count": 7,
   "id": "c4be2219",
   "metadata": {},
   "outputs": [
    {
     "data": {
      "text/plain": [
       "bias   -5.559300\n",
       "x^1     7.410094\n",
       "x^2    -5.861233\n",
       "dtype: float64"
      ]
     },
     "execution_count": 7,
     "metadata": {},
     "output_type": "execute_result"
    }
   ],
   "source": [
    "coeff7"
   ]
  },
  {
   "cell_type": "code",
   "execution_count": 8,
   "id": "dcf0fbb6",
   "metadata": {},
   "outputs": [
    {
     "data": {
      "text/plain": [
       "0   -5.560137\n",
       "1    7.414646\n",
       "2   -5.865617\n",
       "dtype: float64"
      ]
     },
     "execution_count": 8,
     "metadata": {},
     "output_type": "execute_result"
    }
   ],
   "source": [
    "np.linalg.inv(X.T @ X) @ X.T @ y"
   ]
  },
  {
   "cell_type": "code",
   "execution_count": 9,
   "id": "da7217ee",
   "metadata": {},
   "outputs": [
    {
     "data": {
      "text/plain": [
       "bias   -5.472263\n",
       "x^1     6.936264\n",
       "x^2    -5.404949\n",
       "dtype: float64"
      ]
     },
     "execution_count": 9,
     "metadata": {},
     "output_type": "execute_result"
    }
   ],
   "source": [
    "stochastic_gradient_descent(X, y, alpha=0.5, num_batches=1, epochs=1000)"
   ]
  },
  {
   "cell_type": "code",
   "execution_count": 10,
   "id": "a72441ff",
   "metadata": {},
   "outputs": [
    {
     "data": {
      "text/plain": [
       "bias   -5.468619\n",
       "x^1     6.916426\n",
       "x^2    -5.385846\n",
       "dtype: float64"
      ]
     },
     "execution_count": 10,
     "metadata": {},
     "output_type": "execute_result"
    }
   ],
   "source": [
    "gradient_descent(X, y, alpha=0.5, max_iterations=1000)"
   ]
  }
 ],
 "metadata": {
  "kernelspec": {
   "display_name": "Python 3",
   "language": "python",
   "name": "python3"
  },
  "language_info": {
   "codemirror_mode": {
    "name": "ipython",
    "version": 3
   },
   "file_extension": ".py",
   "mimetype": "text/x-python",
   "name": "python",
   "nbconvert_exporter": "python",
   "pygments_lexer": "ipython3",
   "version": "3.8.8"
  }
 },
 "nbformat": 4,
 "nbformat_minor": 5
}
