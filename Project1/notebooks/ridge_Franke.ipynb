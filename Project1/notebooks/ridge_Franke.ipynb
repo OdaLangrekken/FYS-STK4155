{
 "cells": [
  {
   "cell_type": "code",
   "execution_count": 1,
   "id": "982eb066",
   "metadata": {},
   "outputs": [],
   "source": [
    "import os\n",
    "import sys\n",
    "\n",
    "current_path = os.getcwd()\n",
    "sys.path.append(current_path + '\\..\\project1')\n",
    "\n",
    "import numpy as np\n",
    "import pandas as pd\n",
    "from sklearn.model_selection import train_test_split\n",
    "from sklearn.linear_model import LinearRegression\n",
    "import matplotlib.pyplot as plt\n",
    "import seaborn as sns\n",
    "\n",
    "# Import self-made modules\n",
    "from linear_model import LinearModel\n",
    "from make_and_prepare_data import FrankeFunction, create_design_matrix\n",
    "from model_selection import R2, MSE, cross_validation\n",
    "\n",
    "# Import plotting functions\n",
    "from plotting import plot_mse_per_poldegree, plot_R2_per_poldegree"
   ]
  },
  {
   "cell_type": "code",
   "execution_count": 2,
   "id": "2e460bf7",
   "metadata": {},
   "outputs": [],
   "source": [
    "# Choose hyperparameters for model\n",
    "pol_degree = 7\n",
    "data_size = 200\n",
    "test_size = 0.2\n",
    "error_std = 0\n",
    "save_fig = False"
   ]
  },
  {
   "cell_type": "code",
   "execution_count": 6,
   "id": "53fcec8a",
   "metadata": {},
   "outputs": [],
   "source": [
    "# Make data\n",
    "np.random.seed(4)\n",
    "\n",
    "x = np.random.uniform(0, 1, data_size)\n",
    "y = np.random.uniform(0, 1, data_size)\n",
    "\n",
    "z = FrankeFunction(x, y) + np.random.normal(scale = error_std, size = data_size)"
   ]
  },
  {
   "cell_type": "code",
   "execution_count": 7,
   "id": "a086af4d",
   "metadata": {},
   "outputs": [],
   "source": [
    "# Define empty list in which to store the MSE and R2 errors\n",
    "mses = []\n",
    "mses_train = []\n",
    "r2s = []\n",
    "r2s_train = []\n",
    "mses_train_ridge = []\n",
    "mses_test_ridge = []\n",
    "\n",
    "\n",
    "# Train and test model for different polynomial derees\n",
    "for i in range(1, pol_degree+1):\n",
    "    X = create_design_matrix(x, y, i)\n",
    "    \n",
    "    # Split data in train and test\n",
    "    X_train, X_test, z_train, z_test = train_test_split(X, z, test_size = test_size)\n",
    "    \n",
    "    # Train model\n",
    "    lr = LinearModel()\n",
    "    lr.fit(X_train, z_train)\n",
    "    \n",
    "    # Made predictions on train and test set\n",
    "    z_pred_test = lr.predict(X_test)\n",
    "    z_pred_train = lr.predict(X_train)\n",
    "    \n",
    "    # Calculate errors for test set\n",
    "    mses.append(MSE(z_test, z_pred_test))\n",
    "    r2s.append(R2(z_test, z_pred_test))\n",
    "    \n",
    "    # Calculate errors for train set\n",
    "    mses_train.append(MSE(z_train, z_pred_train))\n",
    "    r2s_train.append(R2(z_train, z_pred_train)) \n",
    "    \n",
    "    lr_ridge = LinearModel(regr_type='ridge', lamb=0.2)\n",
    "    lr_ridge.fit(X_train, z_train)\n",
    "    \n",
    "    z_pred_test_ridge = lr_ridge.predict(X_test)\n",
    "    z_pred_train_ridge = lr_ridge.predict(X_train)\n",
    "    \n",
    "    # Calculate errors for test set\n",
    "    mses_train_ridge.append(MSE(z_train, z_pred_train_ridge))\n",
    "    mses_test_ridge.append(MSE(z_test, z_pred_test_ridge))\n",
    "    "
   ]
  },
  {
   "cell_type": "code",
   "execution_count": 9,
   "id": "a8a0f7de",
   "metadata": {},
   "outputs": [
    {
     "data": {
      "text/plain": [
       "[<matplotlib.lines.Line2D at 0x13a4bcafc40>]"
      ]
     },
     "execution_count": 9,
     "metadata": {},
     "output_type": "execute_result"
    },
    {
     "data": {
      "image/png": "[encoded data removed]",
      "text/plain": [
       "<Figure size 432x288 with 1 Axes>"
      ]
     },
     "metadata": {
      "needs_background": "light"
     },
     "output_type": "display_data"
    }
   ],
   "source": [
    "# Plot MSE\n",
    "plot_mse_per_poldegree(mses_train, mses, pol_degree=pol_degree, save_plot = save_fig, save_title = 'OLS_MSE_n=' + str(data_size) + ', sigma=' + str(error_std))\n",
    "# Plot MSE\n",
    "plt.plot(range(1, 8), mses_train_ridge)\n",
    "plt.plot(range(1, 8), mses_test_ridge)"
   ]
  },
  {
   "cell_type": "code",
   "execution_count": null,
   "id": "ca0ed0d9",
   "metadata": {},
   "outputs": [],
   "source": []
  }
 ],
 "metadata": {
  "kernelspec": {
   "display_name": "Python 3",
   "language": "python",
   "name": "python3"
  },
  "language_info": {
   "codemirror_mode": {
    "name": "ipython",
    "version": 3
   },
   "file_extension": ".py",
   "mimetype": "text/x-python",
   "name": "python",
   "nbconvert_exporter": "python",
   "pygments_lexer": "ipython3",
   "version": "3.8.8"
  }
 },
 "nbformat": 4,
 "nbformat_minor": 5
}
