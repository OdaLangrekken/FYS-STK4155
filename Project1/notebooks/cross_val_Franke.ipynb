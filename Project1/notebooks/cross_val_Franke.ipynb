{
 "cells": [
  {
   "cell_type": "code",
   "execution_count": 2,
   "id": "4b3408fd",
   "metadata": {},
   "outputs": [],
   "source": [
    "import os\n",
    "import sys\n",
    "\n",
    "current_path = os.getcwd()\n",
    "sys.path.append(current_path + '\\..\\project1')\n",
    "\n",
    "import numpy as np\n",
    "import pandas as pd\n",
    "from sklearn.model_selection import cross_val_score\n",
    "from sklearn.linear_model import LinearRegression\n",
    "import matplotlib.pyplot as plt\n",
    "\n",
    "# Import self-made modules\n",
    "from linear_model import LinearModel\n",
    "from make_data import FrankeFunction\n",
    "from prepare_data import create_design_matrix\n",
    "from model_selection import R2, MSE, cross_validation\n",
    "\n",
    "# Import plotting functions\n",
    "from plotting import plot_mse_per_poldegree, plot_R2_per_poldegree"
   ]
  },
  {
   "cell_type": "code",
   "execution_count": 12,
   "id": "8955dd74",
   "metadata": {},
   "outputs": [],
   "source": [
    "# Choose hyperparameters for model\n",
    "pol_degree = 5\n",
    "data_size = 2000\n",
    "test_size = 0.2\n",
    "error_std = 0"
   ]
  },
  {
   "cell_type": "code",
   "execution_count": 13,
   "id": "29e03c49",
   "metadata": {},
   "outputs": [],
   "source": [
    "# Make data\n",
    "x = np.random.uniform(0, 1, data_size)\n",
    "y = np.random.uniform(0, 1, data_size)\n",
    "\n",
    "z = FrankeFunction(x, y) + np.random.normal(loc=0, scale=error_std)"
   ]
  },
  {
   "cell_type": "code",
   "execution_count": 15,
   "id": "cda681f2",
   "metadata": {},
   "outputs": [],
   "source": [
    "# Define empty list in which to store the MSE\n",
    "mses_test = []\n",
    "mses_train = []\n",
    "\n",
    "X = create_design_matrix(x, y, pol_degree)\n",
    "\n",
    "# Test for 5 - 10 folds\n",
    "for i in range(5, 11):\n",
    "    mse_test, mse_train = cross_validation(X, z, i)\n",
    "    mses_test.append(mse_test)\n",
    "    mses_train.append(mse_train)"
   ]
  },
  {
   "cell_type": "code",
   "execution_count": 21,
   "id": "8c598163",
   "metadata": {},
   "outputs": [
    {
     "data": {
      "text/plain": [
       "[<matplotlib.lines.Line2D at 0x1dec4fc6910>]"
      ]
     },
     "execution_count": 21,
     "metadata": {},
     "output_type": "execute_result"
    },
    {
     "data": {
      "image/png": "[encoded data removed]",
      "text/plain": [
       "<Figure size 432x288 with 1 Axes>"
      ]
     },
     "metadata": {
      "needs_background": "light"
     },
     "output_type": "display_data"
    }
   ],
   "source": [
    "plt.plot(range(5, 11), mses_test)"
   ]
  },
  {
   "cell_type": "code",
   "execution_count": 17,
   "id": "d93e91be",
   "metadata": {},
   "outputs": [
    {
     "data": {
      "text/plain": [
       "[0.002223445960185759,\n",
       " 0.0021985554202256677,\n",
       " 0.0022216996166789225,\n",
       " 0.002209207548352618,\n",
       " 0.0022044206941989474,\n",
       " 0.0022091561522880232]"
      ]
     },
     "execution_count": 17,
     "metadata": {},
     "output_type": "execute_result"
    }
   ],
   "source": [
    "mses_test"
   ]
  },
  {
   "cell_type": "code",
   "execution_count": 18,
   "id": "51a8c052",
   "metadata": {},
   "outputs": [
    {
     "name": "stdout",
     "output_type": "stream",
     "text": [
      "-0.0022234459601331146\n",
      "-0.0021976589936546203\n",
      "-0.0022201568948306562\n",
      "-0.002209207548314272\n",
      "-0.0022022546662770013\n",
      "-0.002209156152313909\n"
     ]
    }
   ],
   "source": [
    "lr_sk = LinearRegression()\n",
    "\n",
    "for i in range(5, 11):\n",
    "    scores = cross_val_score(lr_sk, X, z, cv=i, scoring='neg_mean_squared_error')\n",
    "    print(np.mean(scores))"
   ]
  }
 ],
 "metadata": {
  "kernelspec": {
   "display_name": "Python 3",
   "language": "python",
   "name": "python3"
  },
  "language_info": {
   "codemirror_mode": {
    "name": "ipython",
    "version": 3
   },
   "file_extension": ".py",
   "mimetype": "text/x-python",
   "name": "python",
   "nbconvert_exporter": "python",
   "pygments_lexer": "ipython3",
   "version": "3.8.8"
  }
 },
 "nbformat": 4,
 "nbformat_minor": 5
}
