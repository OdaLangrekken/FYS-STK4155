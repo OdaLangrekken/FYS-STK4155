{
 "cells": [
  {
   "cell_type": "code",
   "execution_count": 1,
   "id": "618254f0",
   "metadata": {},
   "outputs": [],
   "source": [
    "import os\n",
    "import sys\n",
    "\n",
    "current_path = os.getcwd()\n",
    "sys.path.append(current_path + '\\..\\project1')\n",
    "\n",
    "import numpy as np\n",
    "import pandas as pd\n",
    "from sklearn.model_selection import cross_val_score\n",
    "from sklearn.linear_model import LinearRegression\n",
    "import matplotlib.pyplot as plt\n",
    "\n",
    "# Import self-made modules\n",
    "from linear_model import LinearModel\n",
    "from make_data import FrankeFunction\n",
    "from prepare_data import create_design_matrix\n",
    "from model_selection import R2, MSE, cross_validation, bootstrap\n",
    "\n",
    "# Import plotting functions\n",
    "from plotting import plot_mse_per_poldegree, plot_R2_per_poldegree"
   ]
  },
  {
   "cell_type": "code",
   "execution_count": 2,
   "id": "2a582629",
   "metadata": {},
   "outputs": [],
   "source": [
    "# Choose hyperparameters for model\n",
    "pol_degree = 5\n",
    "data_size = 20\n",
    "test_size = 0.2\n",
    "error_std = 0"
   ]
  },
  {
   "cell_type": "code",
   "execution_count": 3,
   "id": "e9ae9c1b",
   "metadata": {},
   "outputs": [],
   "source": [
    "# Make data\n",
    "x = np.random.uniform(0, 1, data_size)\n",
    "y = np.random.uniform(0, 1, data_size)\n",
    "\n",
    "z = FrankeFunction(x, y) + np.random.normal(loc=0, scale=error_std)"
   ]
  },
  {
   "cell_type": "code",
   "execution_count": 4,
   "id": "309819d4",
   "metadata": {},
   "outputs": [],
   "source": [
    "\n",
    "X = create_design_matrix(x, y, pol_degree)"
   ]
  },
  {
   "cell_type": "code",
   "execution_count": null,
   "id": "84be7c87",
   "metadata": {},
   "outputs": [],
   "source": [
    "mse_test, mse_sample = bootstrap(X, z, 5, sample_size=15)\n",
    "mse_test"
   ]
  },
  {
   "cell_type": "code",
   "execution_count": null,
   "id": "2639b6a5",
   "metadata": {},
   "outputs": [],
   "source": [
    "mse_sample"
   ]
  },
  {
   "cell_type": "code",
   "execution_count": null,
   "id": "74ca9f7c",
   "metadata": {},
   "outputs": [],
   "source": [
    "type(X_sample)"
   ]
  },
  {
   "cell_type": "code",
   "execution_count": null,
   "id": "9c9b5d6d",
   "metadata": {},
   "outputs": [],
   "source": [
    "for i in range(len(z_sample)):\n",
    "    original_index_z = np.where(z == z_sample[i])\n",
    "    print(original_index_z)\n",
    "original_index_X = X_sample.index\n",
    "print(original_index_X)"
   ]
  },
  {
   "cell_type": "code",
   "execution_count": null,
   "id": "0aae25f3",
   "metadata": {},
   "outputs": [],
   "source": []
  },
  {
   "cell_type": "code",
   "execution_count": null,
   "id": "e6f8a5b7",
   "metadata": {},
   "outputs": [],
   "source": []
  }
 ],
 "metadata": {
  "kernelspec": {
   "display_name": "Python 3",
   "language": "python",
   "name": "python3"
  },
  "language_info": {
   "codemirror_mode": {
    "name": "ipython",
    "version": 3
   },
   "file_extension": ".py",
   "mimetype": "text/x-python",
   "name": "python",
   "nbconvert_exporter": "python",
   "pygments_lexer": "ipython3",
   "version": "3.8.8"
  }
 },
 "nbformat": 4,
 "nbformat_minor": 5
}
