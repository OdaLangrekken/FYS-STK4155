{
 "cells": [
  {
   "cell_type": "code",
   "execution_count": 4,
   "id": "4c0f26f2",
   "metadata": {},
   "outputs": [],
   "source": [
    "import os\n",
    "import sys\n",
    "\n",
    "current_path = os.getcwd()\n",
    "sys.path.append(current_path + '\\..')\n",
    "\n",
    "import numpy as np\n",
    "import pandas as pd\n",
    "from sklearn.linear_model import Ridge\n",
    "from sklearn.model_selection import train_test_split\n",
    "\n",
    "# Import self-made modules\n",
    "from project1_code.linear_model import LinearModel\n",
    "from project1_code.make_and_prepare_data import FrankeFunction, create_design_matrix\n",
    "from project1_code.model_selection import R2, MSE\n",
    "\n",
    "\n",
    "# Choose hyperparameters for model\n",
    "pol_degree = 5\n",
    "data_size = 300\n",
    "test_size = 0.2\n",
    "error_std = 0.1\n",
    "\n",
    "# Make data\n",
    "np.random.seed(5)\n",
    "x = np.random.uniform(0, 1, data_size)\n",
    "y = np.random.uniform(0, 1, data_size)\n",
    "\n",
    "z = FrankeFunction(x, y) + np.random.normal(scale = error_std, size = data_size)\n",
    "\n",
    "# Train and test model for polynomial degree of 5\n",
    "X = create_design_matrix(x, y, polynomial_degree=pol_degree)\n",
    "    \n",
    "# Split data in train and test\n",
    "X_train, X_test, z_train, z_test = train_test_split(X, z, test_size = test_size, random_state=1)\n",
    "    \n",
    "# Train model\n",
    "lr = LinearModel(regr_type='ridge', lamb=0.7)\n",
    "lr.fit(X_train, z_train)\n",
    "\n",
    "# Find coefficients for homemade model\n",
    "homemade_coefs = lr.coeffs\n",
    "\n",
    "# Find coefficients from sklearn\n",
    "lr_sk = Ridge(alpha=0.7)\n",
    "lr_sk.fit(X_train, z_train)\n",
    "sk_intercept = lr_sk.intercept_\n",
    "sk_coeffs = lr_sk.coef_"
   ]
  }
 ],
 "metadata": {
  "kernelspec": {
   "display_name": "Python 3",
   "language": "python",
   "name": "python3"
  },
  "language_info": {
   "codemirror_mode": {
    "name": "ipython",
    "version": 3
   },
   "file_extension": ".py",
   "mimetype": "text/x-python",
   "name": "python",
   "nbconvert_exporter": "python",
   "pygments_lexer": "ipython3",
   "version": "3.8.8"
  }
 },
 "nbformat": 4,
 "nbformat_minor": 5
}
