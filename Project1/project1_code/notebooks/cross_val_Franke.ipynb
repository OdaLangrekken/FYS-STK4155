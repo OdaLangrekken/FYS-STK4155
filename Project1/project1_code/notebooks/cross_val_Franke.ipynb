{
 "cells": [
  {
   "cell_type": "code",
   "execution_count": 3,
   "id": "4b3408fd",
   "metadata": {},
   "outputs": [],
   "source": [
    "import os\n",
    "import sys\n",
    "\n",
    "current_path = os.getcwd()\n",
    "sys.path.append(current_path + '\\..')\n",
    "\n",
    "import numpy as np\n",
    "import pandas as pd\n",
    "from sklearn.model_selection import cross_val_score\n",
    "from sklearn.linear_model import LinearRegression\n",
    "import matplotlib.pyplot as plt\n",
    "\n",
    "# Import self-made modules\n",
    "from project1_code.linear_model import LinearModel\n",
    "from project1_code.make_and_prepare_data import FrankeFunction, create_design_matrix\n",
    "from project1_code.model_selection import R2, MSE, cross_validation\n",
    "\n",
    "# Import plotting functions\n",
    "from project1_code.plotting import plot_mse_per_poldegree, plot_R2_per_poldegree"
   ]
  },
  {
   "cell_type": "code",
   "execution_count": 28,
   "id": "8955dd74",
   "metadata": {},
   "outputs": [],
   "source": [
    "# Choose hyperparameters for model\n",
    "pol_degree = 5\n",
    "data_size = 600\n",
    "test_size = 0.2\n",
    "error_std = 0.1"
   ]
  },
  {
   "cell_type": "code",
   "execution_count": 29,
   "id": "29e03c49",
   "metadata": {},
   "outputs": [],
   "source": [
    "# Make data\n",
    "x = np.random.uniform(0, 1, data_size)\n",
    "y = np.random.uniform(0, 1, data_size)\n",
    "\n",
    "z = FrankeFunction(x, y) + np.random.normal(loc=0, scale=error_std)"
   ]
  },
  {
   "cell_type": "code",
   "execution_count": 30,
   "id": "cda681f2",
   "metadata": {},
   "outputs": [],
   "source": [
    "# Define empty list in which to store the MSE\n",
    "mses_test = []\n",
    "mses_train = []\n",
    "\n",
    "X = create_design_matrix(x, y, pol_degree)\n",
    "\n",
    "# Test for 5 - 10 folds\n",
    "for i in range(5, 11):\n",
    "    mse_test, mse_train = cross_validation(X, z, i)\n",
    "    mses_test.append(mse_test)\n",
    "    mses_train.append(mse_train)"
   ]
  },
  {
   "cell_type": "code",
   "execution_count": 31,
   "id": "8c598163",
   "metadata": {},
   "outputs": [
    {
     "data": {
      "text/plain": [
       "[<matplotlib.lines.Line2D at 0x1c9d8a618b0>]"
      ]
     },
     "execution_count": 31,
     "metadata": {},
     "output_type": "execute_result"
    },
    {
     "data": {
      "image/png": "[encoded data removed]",
      "text/plain": [
       "<Figure size 432x288 with 1 Axes>"
      ]
     },
     "metadata": {
      "needs_background": "light"
     },
     "output_type": "display_data"
    }
   ],
   "source": [
    "plt.plot(range(5, 11), mses_test)"
   ]
  },
  {
   "cell_type": "code",
   "execution_count": 32,
   "id": "d93e91be",
   "metadata": {},
   "outputs": [
    {
     "data": {
      "text/plain": [
       "[0.0020724944933675697,\n",
       " 0.0020369973256460353,\n",
       " 0.002055236765224343,\n",
       " 0.0020664291666315235,\n",
       " 0.0020524036476969165,\n",
       " 0.0020628667130374806]"
      ]
     },
     "execution_count": 32,
     "metadata": {},
     "output_type": "execute_result"
    }
   ],
   "source": [
    "mses_test"
   ]
  },
  {
   "cell_type": "code",
   "execution_count": 33,
   "id": "51a8c052",
   "metadata": {},
   "outputs": [
    {
     "name": "stdout",
     "output_type": "stream",
     "text": [
      "0.0020724944920485983\n",
      "0.0020369973274465447\n",
      "0.002067170253865508\n",
      "0.002066429162100244\n",
      "0.0020462691433871254\n",
      "0.002062866708575525\n"
     ]
    }
   ],
   "source": [
    "lr_sk = LinearRegression()\n",
    "\n",
    "for i in range(5, 11):\n",
    "    scores = cross_val_score(lr_sk, X, z, cv=i, scoring='neg_mean_squared_error')\n",
    "    print(-np.mean(scores))"
   ]
  },
  {
   "cell_type": "code",
   "execution_count": null,
   "id": "1de754ad",
   "metadata": {},
   "outputs": [],
   "source": []
  }
 ],
 "metadata": {
  "kernelspec": {
   "display_name": "Python 3",
   "language": "python",
   "name": "python3"
  },
  "language_info": {
   "codemirror_mode": {
    "name": "ipython",
    "version": 3
   },
   "file_extension": ".py",
   "mimetype": "text/x-python",
   "name": "python",
   "nbconvert_exporter": "python",
   "pygments_lexer": "ipython3",
   "version": "3.8.8"
  }
 },
 "nbformat": 4,
 "nbformat_minor": 5
}
