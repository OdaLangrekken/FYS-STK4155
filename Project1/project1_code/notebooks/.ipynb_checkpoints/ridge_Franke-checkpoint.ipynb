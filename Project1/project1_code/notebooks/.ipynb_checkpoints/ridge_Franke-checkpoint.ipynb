{
 "cells": [
  {
   "cell_type": "code",
   "execution_count": 1,
   "id": "982eb066",
   "metadata": {},
   "outputs": [],
   "source": [
    "import os\n",
    "import sys\n",
    "\n",
    "current_path = os.getcwd()\n",
    "sys.path.append(current_path + '\\..')\n",
    "import numpy as np\n",
    "import pandas as pd\n",
    "from sklearn.model_selection import train_test_split\n",
    "from sklearn.linear_model import LinearRegression, Ridge\n",
    "import matplotlib.pyplot as plt\n",
    "\n",
    "# Import self-made modules\n",
    "from project1_code.linear_model import LinearModel\n",
    "from project1_code.make_and_prepare_data import FrankeFunction, create_design_matrix\n",
    "from project1_code.model_selection import R2, MSE, cross_validation\n",
    "\n",
    "# Import plotting functions\n",
    "from project1_code.plotting import plot_mse_per_poldegree, plot_R2_per_poldegree"
   ]
  },
  {
   "cell_type": "code",
   "execution_count": 8,
   "id": "2e460bf7",
   "metadata": {},
   "outputs": [],
   "source": [
    "# Choose hyperparameters for model\n",
    "pol_degree = 7\n",
    "data_size = 600\n",
    "test_size = 0.2\n",
    "error_std = 0\n",
    "save_fig = False"
   ]
  },
  {
   "cell_type": "code",
   "execution_count": 9,
   "id": "53fcec8a",
   "metadata": {},
   "outputs": [],
   "source": [
    "# Make data\n",
    "np.random.seed(5)\n",
    "\n",
    "x = np.random.uniform(0, 1, data_size)\n",
    "y = np.random.uniform(0, 1, data_size)\n",
    "\n",
    "z = FrankeFunction(x, y) + np.random.normal(scale = error_std, size = data_size)"
   ]
  },
  {
   "cell_type": "code",
   "execution_count": 12,
   "id": "a086af4d",
   "metadata": {},
   "outputs": [
    {
     "name": "stdout",
     "output_type": "stream",
     "text": [
      "[0.41396199 0.19384397 0.33068309]\n",
      "[ 0.41243705  1.51189354 -1.50142081  1.33660743 -0.79486466 -1.13360883]\n",
      "[ 0.40825366  1.6436281  -1.7446201   0.19526869  1.42887042 -1.47361153\n",
      "  0.09528999 -1.22173786  0.75449167 -0.08366929]\n",
      "[ 0.40286289  1.77935426 -1.782676   -0.63306313  0.83440562  1.66155515\n",
      " -1.50814188 -0.66205681  0.40941182 -1.28559533 -0.06178659  0.62649628\n",
      " -0.53218369  0.86243723  0.23280544]\n",
      "[ 0.406519    1.89341445 -1.69829608 -0.95413064  0.11895779  0.91419263\n",
      "  1.59129443 -1.23925505 -0.78449096 -0.09474459  0.40861218 -1.11940293\n",
      " -0.21215075  0.11736978  0.37601123 -0.58057538  0.3675083   0.42878667\n",
      " -0.05453003  0.55135673  0.19104249]\n",
      "[ 0.40452754  1.96377227 -1.61639348 -1.02876126 -0.16551814  0.42750447\n",
      "  0.75790004  1.52380033 -1.14934716 -0.74111493 -0.2069227   0.12812023\n",
      "  0.2903072  -1.04450131 -0.19246495  0.0505638   0.17248088  0.20384618\n",
      " -0.51667209  0.27584177  0.24688976  0.17109179 -0.07428865  0.34882793\n",
      "  0.18344171  0.07474446  0.24299519  0.04529162]\n",
      "[ 0.41266543  1.97304193 -1.5745161  -1.02569673 -0.25360555  0.23732592\n",
      "  0.47366479  0.54309828  1.59260166 -1.14772668 -0.71794353 -0.21886606\n",
      "  0.06105277  0.16804519  0.17057259 -1.10433034 -0.20532503  0.06270767\n",
      "  0.16069264  0.15650567  0.09416111 -0.5691687   0.25964569  0.24788785\n",
      "  0.15566211  0.04565271 -0.08823537  0.33438244  0.1790131   0.0198291\n",
      "  0.09392859  0.23089904  0.02713647  0.08513216  0.06587851 -0.01597836]\n"
     ]
    }
   ],
   "source": [
    "# Define empty list in which to store the MSE and R2 errors\n",
    "mses = []\n",
    "mses_train = []\n",
    "r2s = []\n",
    "r2s_train = []\n",
    "mses_train_ridge = []\n",
    "mses_test_ridge = []\n",
    "\n",
    "\n",
    "# Train and test model for different polynomial derees\n",
    "for i in range(1, pol_degree+1):\n",
    "    X = create_design_matrix(x, y, i)\n",
    "    \n",
    "    # Split data in train and test\n",
    "    X_train, X_test, z_train, z_test = train_test_split(X, z, test_size = test_size)\n",
    "    \n",
    "    # Train model\n",
    "    lr = LinearModel()\n",
    "    lr.fit(X_train, z_train)\n",
    "    \n",
    "    # Made predictions on train and test set\n",
    "    z_pred_test = lr.predict(X_test)\n",
    "    z_pred_train = lr.predict(X_train)\n",
    "    \n",
    "    # Calculate errors for test set\n",
    "    mses.append(MSE(z_test, z_pred_test))\n",
    "    r2s.append(R2(z_test, z_pred_test))\n",
    "    \n",
    "    # Calculate errors for train set\n",
    "    mses_train.append(MSE(z_train, z_pred_train))\n",
    "    r2s_train.append(R2(z_train, z_pred_train)) \n",
    "    \n",
    "    lr_ridge = LinearModel(regr_type='ridge', lamb=0.6)\n",
    "    lr_ridge.fit(X_train, z_train)\n",
    "    \n",
    "    z_pred_test_ridge = lr_ridge.predict(X_test)\n",
    "    z_pred_train_ridge = lr_ridge.predict(X_train)\n",
    "    \n",
    "    # Calculate errors for test set\n",
    "    mses_train_ridge.append(MSE(z_train, z_pred_train_ridge))\n",
    "    mses_test_ridge.append(MSE(z_test, z_pred_test_ridge))\n",
    "    \n",
    "    print(lr_ridge.coeffs)\n",
    "    "
   ]
  },
  {
   "cell_type": "code",
   "execution_count": 11,
   "id": "a8a0f7de",
   "metadata": {},
   "outputs": [
    {
     "data": {
      "text/plain": [
       "[<matplotlib.lines.Line2D at 0x2706949c3d0>]"
      ]
     },
     "execution_count": 11,
     "metadata": {},
     "output_type": "execute_result"
    },
    {
     "data": {
      "image/png": "[encoded data removed]",
      "text/plain": [
       "<Figure size 432x288 with 1 Axes>"
      ]
     },
     "metadata": {
      "needs_background": "light"
     },
     "output_type": "display_data"
    }
   ],
   "source": [
    "# Plot MSE\n",
    "plot_mse_per_poldegree([mses_train, mses], ['Train', 'Test'], pol_degree=pol_degree, save_plot = save_fig, save_title = 'OLS_MSE_n=' + str(data_size) + ', sigma=' + str(error_std))\n",
    "# Plot MSE\n",
    "plt.plot(range(1, 8), mses_train_ridge)\n",
    "plt.plot(range(1, 8), mses_test_ridge)"
   ]
  },
  {
   "cell_type": "code",
   "execution_count": null,
   "id": "ca0ed0d9",
   "metadata": {},
   "outputs": [],
   "source": []
  }
 ],
 "metadata": {
  "kernelspec": {
   "display_name": "Python 3",
   "language": "python",
   "name": "python3"
  },
  "language_info": {
   "codemirror_mode": {
    "name": "ipython",
    "version": 3
   },
   "file_extension": ".py",
   "mimetype": "text/x-python",
   "name": "python",
   "nbconvert_exporter": "python",
   "pygments_lexer": "ipython3",
   "version": "3.8.8"
  }
 },
 "nbformat": 4,
 "nbformat_minor": 5
}
