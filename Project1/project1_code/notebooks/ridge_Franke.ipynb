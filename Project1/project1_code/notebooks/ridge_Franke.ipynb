{
 "cells": [
  {
   "cell_type": "code",
   "execution_count": 1,
   "id": "982eb066",
   "metadata": {},
   "outputs": [],
   "source": [
    "import os\n",
    "import sys\n",
    "\n",
    "current_path = os.getcwd()\n",
    "sys.path.append(current_path + '\\..')\n",
    "import numpy as np\n",
    "import pandas as pd\n",
    "from sklearn.model_selection import train_test_split\n",
    "from sklearn.linear_model import LinearRegression, Ridge\n",
    "import matplotlib.pyplot as plt\n",
    "\n",
    "# Import self-made modules\n",
    "from project1_code.linear_model import LinearModel\n",
    "from project1_code.make_and_prepare_data import FrankeFunction, create_design_matrix\n",
    "from project1_code.model_selection import R2, MSE, cross_validation\n",
    "\n",
    "# Import plotting functions\n",
    "from project1_code.plotting import plot_mse_per_poldegree, plot_R2_per_poldegree"
   ]
  },
  {
   "cell_type": "code",
   "execution_count": 8,
   "id": "2e460bf7",
   "metadata": {},
   "outputs": [],
   "source": [
    "# Choose hyperparameters for model\n",
    "pol_degree = 5\n",
    "data_size = 600\n",
    "test_size = 0.2\n",
    "error_std = 0\n",
    "save_fig = False"
   ]
  },
  {
   "cell_type": "code",
   "execution_count": 9,
   "id": "53fcec8a",
   "metadata": {},
   "outputs": [],
   "source": [
    "# Make data\n",
    "np.random.seed(5)\n",
    "\n",
    "x = np.random.uniform(0, 1, data_size)\n",
    "y = np.random.uniform(0, 1, data_size)\n",
    "\n",
    "z = FrankeFunction(x, y) + np.random.normal(scale = error_std, size = data_size)"
   ]
  },
  {
   "cell_type": "code",
   "execution_count": 11,
   "id": "a086af4d",
   "metadata": {},
   "outputs": [
    {
     "name": "stdout",
     "output_type": "stream",
     "text": [
      "1.0105687605825322 [-0.69169095 -0.50700145]\n",
      "[ 1.00200961 -0.68389217 -0.5001547 ]\n",
      "1.0894544168324425 [-0.63720711 -0.39371897 -0.74587995  0.67524456 -0.08897635]\n",
      "[ 1.06555158 -0.58853658 -0.4188276  -0.70224603  0.64223945 -0.10987281]\n",
      "1.0900105937130031 [-0.54876838 -0.76170851  0.37110086 -0.58671771  0.34130932 -0.14902717\n",
      " -0.37807637  0.56096697  0.07062166]\n",
      "[ 1.06594431 -0.49975801 -0.78325201  0.36644324 -0.54248179  0.30141165\n",
      " -0.14350218 -0.39719428  0.56383937  0.06818964]\n",
      "1.0746256669631438 [-0.41442248 -0.92747989 -0.16413949  0.68286714 -0.5189036   0.36975958\n",
      " -0.19005624 -0.10350285 -0.40292507  0.41460659 -0.08228054 -0.05855943\n",
      "  0.37791991  0.03527026]\n",
      "[ 1.04944698 -0.36036422 -0.9499152  -0.17634383  0.68717217 -0.46967652\n",
      "  0.32633181 -0.20062537 -0.09068222 -0.4229882   0.4030599  -0.06627075\n",
      " -0.06839416  0.38805969  0.04003153]\n",
      "1.0655954075097231 [-0.32909207 -0.92578567 -0.39506067  0.22473361  0.68338822 -0.52373737\n",
      "  0.38357214 -0.1490771  -0.14071582  0.01382829 -0.39142146  0.40291387\n",
      " -0.0418295  -0.12717798 -0.05158828  0.33582194 -0.06313418  0.03531499\n",
      "  0.18636245 -0.05400926]\n",
      "[ 1.03932758 -0.27211805 -0.94658679 -0.41012271  0.2220267   0.68995243\n",
      " -0.4718288   0.34278415 -0.16475723 -0.13909688  0.02433865 -0.40986926\n",
      "  0.38720006 -0.03774955 -0.11431191 -0.06387439  0.33633178 -0.05078616\n",
      "  0.03362746  0.19498794 -0.04817981]\n"
     ]
    }
   ],
   "source": [
    "# Define empty list in which to store the MSE and R2 errors\n",
    "mses = []\n",
    "mses_train = []\n",
    "r2s = []\n",
    "r2s_train = []\n",
    "mses_train_ridge = []\n",
    "mses_test_ridge = []\n",
    "mse_train_sk = []\n",
    "mse_test_sk = []\n",
    "\n",
    "\n",
    "# Train and test model for different polynomial derees\n",
    "for i in range(1, pol_degree+1):\n",
    "    X = create_design_matrix(x, y, i)\n",
    "    \n",
    "    # Split data in train and test\n",
    "    X_train, X_test, z_train, z_test = train_test_split(X, z, test_size = test_size, random_state=1)\n",
    "    \n",
    "    # Train model\n",
    "    lr = LinearModel()\n",
    "    lr.fit(X_train, z_train)\n",
    "    \n",
    "    # Made predictions on train and test set\n",
    "    z_pred_test = lr.predict(X_test)\n",
    "    z_pred_train = lr.predict(X_train)\n",
    "    \n",
    "    # Calculate errors for test set\n",
    "    mses.append(MSE(z_test, z_pred_test))\n",
    "    r2s.append(R2(z_test, z_pred_test))\n",
    "    \n",
    "    # Calculate errors for train set\n",
    "    mses_train.append(MSE(z_train, z_pred_train))\n",
    "    r2s_train.append(R2(z_train, z_pred_train)) \n",
    "    \n",
    "    lr_ridge = LinearModel(regr_type='ridge', lamb=0.6)\n",
    "    lr_ridge.fit(X_train, z_train)\n",
    "    \n",
    "    z_pred_test_ridge = lr_ridge.predict(X_test)\n",
    "    z_pred_train_ridge = lr_ridge.predict(X_train)\n",
    "    \n",
    "    # Calculate errors for test set\n",
    "    mses_train_ridge.append(MSE(z_train, z_pred_train_ridge))\n",
    "    mses_test_ridge.append(MSE(z_test, z_pred_test_ridge))\n",
    "    \n",
    "    lr_sk = Ridge(alpha=0.6)\n",
    "    lr_sk.fit(X_train, z_train)\n",
    "    print(lr_sk.intercept_, lr_sk.coef_)\n",
    "    \n",
    "    print(lr_ridge.coeffs)\n",
    "    "
   ]
  },
  {
   "cell_type": "code",
   "execution_count": 5,
   "id": "a8a0f7de",
   "metadata": {},
   "outputs": [
    {
     "data": {
      "text/plain": [
       "[<matplotlib.lines.Line2D at 0x2d2ed7c16a0>]"
      ]
     },
     "execution_count": 5,
     "metadata": {},
     "output_type": "execute_result"
    },
    {
     "data": {
      "image/png": "[encoded data removed]",
      "text/plain": [
       "<Figure size 432x288 with 1 Axes>"
      ]
     },
     "metadata": {
      "needs_background": "light"
     },
     "output_type": "display_data"
    }
   ],
   "source": [
    "# Plot MSE\n",
    "plot_mse_per_poldegree([mses_train, mses], ['Train', 'Test'], pol_degree=pol_degree, save_plot = save_fig, save_title = 'OLS_MSE_n=' + str(data_size) + ', sigma=' + str(error_std))\n",
    "# Plot MSE\n",
    "plt.plot(range(1, 8), mses_train_ridge)\n",
    "plt.plot(range(1, 8), mses_test_ridge)"
   ]
  },
  {
   "cell_type": "code",
   "execution_count": 6,
   "id": "ca0ed0d9",
   "metadata": {},
   "outputs": [
    {
     "data": {
      "text/plain": [
       "array([[0, 2],\n",
       "       [2, 1]])"
      ]
     },
     "execution_count": 6,
     "metadata": {},
     "output_type": "execute_result"
    }
   ],
   "source": [
    "X = np.array([[0,2], [2, 1]])\n",
    "X"
   ]
  },
  {
   "cell_type": "code",
   "execution_count": 7,
   "id": "3d802bef",
   "metadata": {},
   "outputs": [
    {
     "data": {
      "text/plain": [
       "array([[0., 2.],\n",
       "       [2., 1.]])"
      ]
     },
     "execution_count": 7,
     "metadata": {},
     "output_type": "execute_result"
    }
   ],
   "source": [
    "X + np.identity(2)*0"
   ]
  }
 ],
 "metadata": {
  "kernelspec": {
   "display_name": "Python 3",
   "language": "python",
   "name": "python3"
  },
  "language_info": {
   "codemirror_mode": {
    "name": "ipython",
    "version": 3
   },
   "file_extension": ".py",
   "mimetype": "text/x-python",
   "name": "python",
   "nbconvert_exporter": "python",
   "pygments_lexer": "ipython3",
   "version": "3.8.8"
  }
 },
 "nbformat": 4,
 "nbformat_minor": 5
}
