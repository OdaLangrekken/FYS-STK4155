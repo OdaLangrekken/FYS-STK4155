{
 "cells": [
  {
   "cell_type": "code",
   "execution_count": 1,
   "id": "982eb066",
   "metadata": {},
   "outputs": [],
   "source": [
    "import os\n",
    "import sys\n",
    "\n",
    "current_path = os.getcwd()\n",
    "sys.path.append(current_path + '\\..')\n",
    "import numpy as np\n",
    "import pandas as pd\n",
    "from sklearn.model_selection import train_test_split\n",
    "from sklearn.linear_model import LinearRegression, Ridge\n",
    "import matplotlib.pyplot as plt\n",
    "\n",
    "# Import self-made modules\n",
    "from project1_code.linear_model import LinearModel\n",
    "from project1_code.make_and_prepare_data import FrankeFunction, create_design_matrix\n",
    "from project1_code.model_selection import R2, MSE, cross_validation\n",
    "\n",
    "# Import plotting functions\n",
    "from project1_code.plotting import plot_mse_per_poldegree, plot_R2_per_poldegree"
   ]
  },
  {
   "cell_type": "code",
   "execution_count": 2,
   "id": "2e460bf7",
   "metadata": {},
   "outputs": [],
   "source": [
    "# Choose hyperparameters for model\n",
    "pol_degree = 5\n",
    "data_size = 600\n",
    "test_size = 0.2\n",
    "error_std = 0\n",
    "save_fig = False"
   ]
  },
  {
   "cell_type": "code",
   "execution_count": 3,
   "id": "53fcec8a",
   "metadata": {},
   "outputs": [],
   "source": [
    "# Make data\n",
    "np.random.seed(5)\n",
    "\n",
    "x = np.random.uniform(0, 1, data_size)\n",
    "y = np.random.uniform(0, 1, data_size)\n",
    "\n",
    "z = FrankeFunction(x, y) + np.random.normal(scale = error_std, size = data_size)"
   ]
  },
  {
   "cell_type": "code",
   "execution_count": 7,
   "id": "a086af4d",
   "metadata": {},
   "outputs": [
    {
     "name": "stdout",
     "output_type": "stream",
     "text": [
      "[ 1.01955028 -0.70281746 -0.51388595]\n",
      "1.0105687605825322 [-0.69169095 -0.50700145]\n",
      "[ 0.         -0.69169095 -0.50700145]\n",
      "[ 1.19034844 -0.83056633 -0.33477655 -1.00787395  0.93032575  0.03859394]\n",
      "1.0894544168324425 [-0.63720711 -0.39371897 -0.74587995  0.67524456 -0.08897635]\n",
      "[ 0.         -0.63720711 -0.39371897 -0.74587995  0.67524456 -0.08897635]\n",
      "[ 0.97267826  1.47816988 -6.95312384  4.92589296 -0.46250184  1.85669618\n",
      " -1.54579253 -1.53425054  0.58004481  0.88318088]\n",
      "1.0900105937130031 [-0.54876838 -0.76170851  0.37110086 -0.58671771  0.34130932 -0.14902717\n",
      " -0.37807637  0.56096697  0.07062166]\n",
      "[ 0.         -0.54876838 -0.76170851  0.37110086 -0.58671771  0.34130932\n",
      " -0.14902717 -0.37807637  0.56096697  0.07062166]\n",
      "[  0.59665768   3.26460009 -12.41649933  11.71993715  -2.66574841\n",
      "   4.09333658  -1.75069621   1.09332832  -2.56116484 -19.04164005\n",
      "   7.30266004   1.29869897  24.97619697  -5.31495224 -10.72273477]\n",
      "1.0746256669631438 [-0.41442248 -0.92747989 -0.16413949  0.68286714 -0.5189036   0.36975958\n",
      " -0.19005624 -0.10350285 -0.40292507  0.41460659 -0.08228054 -0.05855943\n",
      "  0.37791991  0.03527026]\n",
      "[ 0.         -0.41442248 -0.92747989 -0.16413949  0.68286714 -0.5189036\n",
      "  0.36975958 -0.19005624 -0.10350285 -0.40292507  0.41460659 -0.08228054\n",
      " -0.05855943  0.37791991  0.03527026]\n",
      "[  0.30097284   4.39108916  -9.63689536  -8.53727998  31.21608092\n",
      " -17.62623503   8.34131077 -17.06467102  24.46396078 -32.76661253\n",
      "  17.98515092 -35.54273912  46.73278206 -10.7543633   -4.98366802\n",
      "  49.94718603 -54.13998938  12.00807091 -24.77605513  18.76005508\n",
      "   1.76448842]\n",
      "1.0655954075097231 [-0.32909207 -0.92578567 -0.39506067  0.22473361  0.68338822 -0.52373737\n",
      "  0.38357214 -0.1490771  -0.14071582  0.01382829 -0.39142146  0.40291387\n",
      " -0.0418295  -0.12717798 -0.05158828  0.33582194 -0.06313418  0.03531499\n",
      "  0.18636245 -0.05400926]\n",
      "[ 0.         -0.32909207 -0.92578567 -0.39506067  0.22473361  0.68338822\n",
      " -0.52373737  0.38357214 -0.1490771  -0.14071582  0.01382829 -0.39142146\n",
      "  0.40291387 -0.0418295  -0.12717798 -0.05158828  0.33582194 -0.06313418\n",
      "  0.03531499  0.18636245 -0.05400926]\n"
     ]
    }
   ],
   "source": [
    "# Define empty list in which to store the MSE and R2 errors\n",
    "mses = []\n",
    "mses_train = []\n",
    "r2s = []\n",
    "r2s_train = []\n",
    "mses_train_ridge = []\n",
    "mses_test_ridge = []\n",
    "mse_train_sk = []\n",
    "mse_test_sk = []\n",
    "\n",
    "\n",
    "# Train and test model for different polynomial derees\n",
    "for i in range(1, pol_degree+1):\n",
    "    X = create_design_matrix(x, y, i)\n",
    "    \n",
    "    # Split data in train and test\n",
    "    X_train, X_test, z_train, z_test = train_test_split(X, z, test_size = test_size, random_state=1)\n",
    "    \n",
    "    # Train model\n",
    "    lr = LinearModel()\n",
    "    lr.fit(X_train, z_train)\n",
    "    \n",
    "    # Made predictions on train and test set\n",
    "    z_pred_test = lr.predict(X_test)\n",
    "    z_pred_train = lr.predict(X_train)\n",
    "    print(lr.coeffs)\n",
    "    \n",
    "    # Calculate errors for test set\n",
    "    mses.append(MSE(z_test, z_pred_test))\n",
    "    r2s.append(R2(z_test, z_pred_test))\n",
    "    \n",
    "    # Calculate errors for train set\n",
    "    mses_train.append(MSE(z_train, z_pred_train))\n",
    "    r2s_train.append(R2(z_train, z_pred_train)) \n",
    "    \n",
    "    lr_ridge = LinearModel(regr_type='ridge', lamb=0.6)\n",
    "    lr_ridge.fit(X_train, z_train)\n",
    "    \n",
    "    z_pred_test_ridge = lr_ridge.predict(X_test)\n",
    "    z_pred_train_ridge = lr_ridge.predict(X_train)\n",
    "    \n",
    "    # Calculate errors for test set\n",
    "    mses_train_ridge.append(MSE(z_train, z_pred_train_ridge))\n",
    "    mses_test_ridge.append(MSE(z_test, z_pred_test_ridge))\n",
    "    \n",
    "    lr_sk = Ridge(alpha=0.6)\n",
    "    lr_sk.fit(X_train, z_train)\n",
    "    print(lr_sk.intercept_, lr_sk.coef_)\n",
    "    \n",
    "    print(lr_ridge.coeffs)\n",
    "    "
   ]
  },
  {
   "cell_type": "code",
   "execution_count": 5,
   "id": "ee4a6b4f",
   "metadata": {},
   "outputs": [
    {
     "data": {
      "text/plain": [
       "0.41268700603044267"
      ]
     },
     "execution_count": 5,
     "metadata": {},
     "output_type": "execute_result"
    }
   ],
   "source": [
    "np.mean(z_train)"
   ]
  },
  {
   "cell_type": "code",
   "execution_count": null,
   "id": "1eec682c",
   "metadata": {},
   "outputs": [],
   "source": []
  },
  {
   "cell_type": "code",
   "execution_count": 6,
   "id": "a8a0f7de",
   "metadata": {},
   "outputs": [
    {
     "ename": "ValueError",
     "evalue": "x and y must have same first dimension, but have shapes (7,) and (5,)",
     "output_type": "error",
     "traceback": [
      "\u001b[1;31m---------------------------------------------------------------------------\u001b[0m",
      "\u001b[1;31mValueError\u001b[0m                                Traceback (most recent call last)",
      "\u001b[1;32m<ipython-input-6-8da2a5039e34>\u001b[0m in \u001b[0;36m<module>\u001b[1;34m\u001b[0m\n\u001b[0;32m      2\u001b[0m \u001b[0mplot_mse_per_poldegree\u001b[0m\u001b[1;33m(\u001b[0m\u001b[1;33m[\u001b[0m\u001b[0mmses_train\u001b[0m\u001b[1;33m,\u001b[0m \u001b[0mmses\u001b[0m\u001b[1;33m]\u001b[0m\u001b[1;33m,\u001b[0m \u001b[1;33m[\u001b[0m\u001b[1;34m'Train'\u001b[0m\u001b[1;33m,\u001b[0m \u001b[1;34m'Test'\u001b[0m\u001b[1;33m]\u001b[0m\u001b[1;33m,\u001b[0m \u001b[0mpol_degree\u001b[0m\u001b[1;33m=\u001b[0m\u001b[0mpol_degree\u001b[0m\u001b[1;33m,\u001b[0m \u001b[0msave_plot\u001b[0m \u001b[1;33m=\u001b[0m \u001b[0msave_fig\u001b[0m\u001b[1;33m,\u001b[0m \u001b[0msave_title\u001b[0m \u001b[1;33m=\u001b[0m \u001b[1;34m'OLS_MSE_n='\u001b[0m \u001b[1;33m+\u001b[0m \u001b[0mstr\u001b[0m\u001b[1;33m(\u001b[0m\u001b[0mdata_size\u001b[0m\u001b[1;33m)\u001b[0m \u001b[1;33m+\u001b[0m \u001b[1;34m', sigma='\u001b[0m \u001b[1;33m+\u001b[0m \u001b[0mstr\u001b[0m\u001b[1;33m(\u001b[0m\u001b[0merror_std\u001b[0m\u001b[1;33m)\u001b[0m\u001b[1;33m)\u001b[0m\u001b[1;33m\u001b[0m\u001b[1;33m\u001b[0m\u001b[0m\n\u001b[0;32m      3\u001b[0m \u001b[1;31m# Plot MSE\u001b[0m\u001b[1;33m\u001b[0m\u001b[1;33m\u001b[0m\u001b[1;33m\u001b[0m\u001b[0m\n\u001b[1;32m----> 4\u001b[1;33m \u001b[0mplt\u001b[0m\u001b[1;33m.\u001b[0m\u001b[0mplot\u001b[0m\u001b[1;33m(\u001b[0m\u001b[0mrange\u001b[0m\u001b[1;33m(\u001b[0m\u001b[1;36m1\u001b[0m\u001b[1;33m,\u001b[0m \u001b[1;36m8\u001b[0m\u001b[1;33m)\u001b[0m\u001b[1;33m,\u001b[0m \u001b[0mmses_train_ridge\u001b[0m\u001b[1;33m)\u001b[0m\u001b[1;33m\u001b[0m\u001b[1;33m\u001b[0m\u001b[0m\n\u001b[0m\u001b[0;32m      5\u001b[0m \u001b[0mplt\u001b[0m\u001b[1;33m.\u001b[0m\u001b[0mplot\u001b[0m\u001b[1;33m(\u001b[0m\u001b[0mrange\u001b[0m\u001b[1;33m(\u001b[0m\u001b[1;36m1\u001b[0m\u001b[1;33m,\u001b[0m \u001b[1;36m8\u001b[0m\u001b[1;33m)\u001b[0m\u001b[1;33m,\u001b[0m \u001b[0mmses_test_ridge\u001b[0m\u001b[1;33m)\u001b[0m\u001b[1;33m\u001b[0m\u001b[1;33m\u001b[0m\u001b[0m\n",
      "\u001b[1;32m~\\anaconda3\\lib\\site-packages\\matplotlib\\pyplot.py\u001b[0m in \u001b[0;36mplot\u001b[1;34m(scalex, scaley, data, *args, **kwargs)\u001b[0m\n\u001b[0;32m   2838\u001b[0m \u001b[1;33m@\u001b[0m\u001b[0m_copy_docstring_and_deprecators\u001b[0m\u001b[1;33m(\u001b[0m\u001b[0mAxes\u001b[0m\u001b[1;33m.\u001b[0m\u001b[0mplot\u001b[0m\u001b[1;33m)\u001b[0m\u001b[1;33m\u001b[0m\u001b[1;33m\u001b[0m\u001b[0m\n\u001b[0;32m   2839\u001b[0m \u001b[1;32mdef\u001b[0m \u001b[0mplot\u001b[0m\u001b[1;33m(\u001b[0m\u001b[1;33m*\u001b[0m\u001b[0margs\u001b[0m\u001b[1;33m,\u001b[0m \u001b[0mscalex\u001b[0m\u001b[1;33m=\u001b[0m\u001b[1;32mTrue\u001b[0m\u001b[1;33m,\u001b[0m \u001b[0mscaley\u001b[0m\u001b[1;33m=\u001b[0m\u001b[1;32mTrue\u001b[0m\u001b[1;33m,\u001b[0m \u001b[0mdata\u001b[0m\u001b[1;33m=\u001b[0m\u001b[1;32mNone\u001b[0m\u001b[1;33m,\u001b[0m \u001b[1;33m**\u001b[0m\u001b[0mkwargs\u001b[0m\u001b[1;33m)\u001b[0m\u001b[1;33m:\u001b[0m\u001b[1;33m\u001b[0m\u001b[1;33m\u001b[0m\u001b[0m\n\u001b[1;32m-> 2840\u001b[1;33m     return gca().plot(\n\u001b[0m\u001b[0;32m   2841\u001b[0m         \u001b[1;33m*\u001b[0m\u001b[0margs\u001b[0m\u001b[1;33m,\u001b[0m \u001b[0mscalex\u001b[0m\u001b[1;33m=\u001b[0m\u001b[0mscalex\u001b[0m\u001b[1;33m,\u001b[0m \u001b[0mscaley\u001b[0m\u001b[1;33m=\u001b[0m\u001b[0mscaley\u001b[0m\u001b[1;33m,\u001b[0m\u001b[1;33m\u001b[0m\u001b[1;33m\u001b[0m\u001b[0m\n\u001b[0;32m   2842\u001b[0m         **({\"data\": data} if data is not None else {}), **kwargs)\n",
      "\u001b[1;32m~\\anaconda3\\lib\\site-packages\\matplotlib\\axes\\_axes.py\u001b[0m in \u001b[0;36mplot\u001b[1;34m(self, scalex, scaley, data, *args, **kwargs)\u001b[0m\n\u001b[0;32m   1741\u001b[0m         \"\"\"\n\u001b[0;32m   1742\u001b[0m         \u001b[0mkwargs\u001b[0m \u001b[1;33m=\u001b[0m \u001b[0mcbook\u001b[0m\u001b[1;33m.\u001b[0m\u001b[0mnormalize_kwargs\u001b[0m\u001b[1;33m(\u001b[0m\u001b[0mkwargs\u001b[0m\u001b[1;33m,\u001b[0m \u001b[0mmlines\u001b[0m\u001b[1;33m.\u001b[0m\u001b[0mLine2D\u001b[0m\u001b[1;33m)\u001b[0m\u001b[1;33m\u001b[0m\u001b[1;33m\u001b[0m\u001b[0m\n\u001b[1;32m-> 1743\u001b[1;33m         \u001b[0mlines\u001b[0m \u001b[1;33m=\u001b[0m \u001b[1;33m[\u001b[0m\u001b[1;33m*\u001b[0m\u001b[0mself\u001b[0m\u001b[1;33m.\u001b[0m\u001b[0m_get_lines\u001b[0m\u001b[1;33m(\u001b[0m\u001b[1;33m*\u001b[0m\u001b[0margs\u001b[0m\u001b[1;33m,\u001b[0m \u001b[0mdata\u001b[0m\u001b[1;33m=\u001b[0m\u001b[0mdata\u001b[0m\u001b[1;33m,\u001b[0m \u001b[1;33m**\u001b[0m\u001b[0mkwargs\u001b[0m\u001b[1;33m)\u001b[0m\u001b[1;33m]\u001b[0m\u001b[1;33m\u001b[0m\u001b[1;33m\u001b[0m\u001b[0m\n\u001b[0m\u001b[0;32m   1744\u001b[0m         \u001b[1;32mfor\u001b[0m \u001b[0mline\u001b[0m \u001b[1;32min\u001b[0m \u001b[0mlines\u001b[0m\u001b[1;33m:\u001b[0m\u001b[1;33m\u001b[0m\u001b[1;33m\u001b[0m\u001b[0m\n\u001b[0;32m   1745\u001b[0m             \u001b[0mself\u001b[0m\u001b[1;33m.\u001b[0m\u001b[0madd_line\u001b[0m\u001b[1;33m(\u001b[0m\u001b[0mline\u001b[0m\u001b[1;33m)\u001b[0m\u001b[1;33m\u001b[0m\u001b[1;33m\u001b[0m\u001b[0m\n",
      "\u001b[1;32m~\\anaconda3\\lib\\site-packages\\matplotlib\\axes\\_base.py\u001b[0m in \u001b[0;36m__call__\u001b[1;34m(self, data, *args, **kwargs)\u001b[0m\n\u001b[0;32m    271\u001b[0m                 \u001b[0mthis\u001b[0m \u001b[1;33m+=\u001b[0m \u001b[0margs\u001b[0m\u001b[1;33m[\u001b[0m\u001b[1;36m0\u001b[0m\u001b[1;33m]\u001b[0m\u001b[1;33m,\u001b[0m\u001b[1;33m\u001b[0m\u001b[1;33m\u001b[0m\u001b[0m\n\u001b[0;32m    272\u001b[0m                 \u001b[0margs\u001b[0m \u001b[1;33m=\u001b[0m \u001b[0margs\u001b[0m\u001b[1;33m[\u001b[0m\u001b[1;36m1\u001b[0m\u001b[1;33m:\u001b[0m\u001b[1;33m]\u001b[0m\u001b[1;33m\u001b[0m\u001b[1;33m\u001b[0m\u001b[0m\n\u001b[1;32m--> 273\u001b[1;33m             \u001b[1;32myield\u001b[0m \u001b[1;32mfrom\u001b[0m \u001b[0mself\u001b[0m\u001b[1;33m.\u001b[0m\u001b[0m_plot_args\u001b[0m\u001b[1;33m(\u001b[0m\u001b[0mthis\u001b[0m\u001b[1;33m,\u001b[0m \u001b[0mkwargs\u001b[0m\u001b[1;33m)\u001b[0m\u001b[1;33m\u001b[0m\u001b[1;33m\u001b[0m\u001b[0m\n\u001b[0m\u001b[0;32m    274\u001b[0m \u001b[1;33m\u001b[0m\u001b[0m\n\u001b[0;32m    275\u001b[0m     \u001b[1;32mdef\u001b[0m \u001b[0mget_next_color\u001b[0m\u001b[1;33m(\u001b[0m\u001b[0mself\u001b[0m\u001b[1;33m)\u001b[0m\u001b[1;33m:\u001b[0m\u001b[1;33m\u001b[0m\u001b[1;33m\u001b[0m\u001b[0m\n",
      "\u001b[1;32m~\\anaconda3\\lib\\site-packages\\matplotlib\\axes\\_base.py\u001b[0m in \u001b[0;36m_plot_args\u001b[1;34m(self, tup, kwargs)\u001b[0m\n\u001b[0;32m    397\u001b[0m \u001b[1;33m\u001b[0m\u001b[0m\n\u001b[0;32m    398\u001b[0m         \u001b[1;32mif\u001b[0m \u001b[0mx\u001b[0m\u001b[1;33m.\u001b[0m\u001b[0mshape\u001b[0m\u001b[1;33m[\u001b[0m\u001b[1;36m0\u001b[0m\u001b[1;33m]\u001b[0m \u001b[1;33m!=\u001b[0m \u001b[0my\u001b[0m\u001b[1;33m.\u001b[0m\u001b[0mshape\u001b[0m\u001b[1;33m[\u001b[0m\u001b[1;36m0\u001b[0m\u001b[1;33m]\u001b[0m\u001b[1;33m:\u001b[0m\u001b[1;33m\u001b[0m\u001b[1;33m\u001b[0m\u001b[0m\n\u001b[1;32m--> 399\u001b[1;33m             raise ValueError(f\"x and y must have same first dimension, but \"\n\u001b[0m\u001b[0;32m    400\u001b[0m                              f\"have shapes {x.shape} and {y.shape}\")\n\u001b[0;32m    401\u001b[0m         \u001b[1;32mif\u001b[0m \u001b[0mx\u001b[0m\u001b[1;33m.\u001b[0m\u001b[0mndim\u001b[0m \u001b[1;33m>\u001b[0m \u001b[1;36m2\u001b[0m \u001b[1;32mor\u001b[0m \u001b[0my\u001b[0m\u001b[1;33m.\u001b[0m\u001b[0mndim\u001b[0m \u001b[1;33m>\u001b[0m \u001b[1;36m2\u001b[0m\u001b[1;33m:\u001b[0m\u001b[1;33m\u001b[0m\u001b[1;33m\u001b[0m\u001b[0m\n",
      "\u001b[1;31mValueError\u001b[0m: x and y must have same first dimension, but have shapes (7,) and (5,)"
     ]
    },
    {
     "data": {
      "image/png": "[encoded data removed]",
      "text/plain": [
       "<Figure size 432x288 with 1 Axes>"
      ]
     },
     "metadata": {
      "needs_background": "light"
     },
     "output_type": "display_data"
    }
   ],
   "source": [
    "# Plot MSE\n",
    "plot_mse_per_poldegree([mses_train, mses], ['Train', 'Test'], pol_degree=pol_degree, save_plot = save_fig, save_title = 'OLS_MSE_n=' + str(data_size) + ', sigma=' + str(error_std))\n",
    "# Plot MSE\n",
    "plt.plot(range(1, 8), mses_train_ridge)\n",
    "plt.plot(range(1, 8), mses_test_ridge)"
   ]
  },
  {
   "cell_type": "code",
   "execution_count": null,
   "id": "ca0ed0d9",
   "metadata": {},
   "outputs": [],
   "source": [
    "X = np.array([[0,2], [2, 1]])\n",
    "X"
   ]
  },
  {
   "cell_type": "code",
   "execution_count": null,
   "id": "3d802bef",
   "metadata": {},
   "outputs": [],
   "source": [
    "X + np.identity(2)*0"
   ]
  },
  {
   "cell_type": "code",
   "execution_count": 8,
   "id": "21123548",
   "metadata": {},
   "outputs": [
    {
     "data": {
      "text/plain": [
       "array([1.20386866, 0.10102443, 0.74193197, 0.05293103, 0.5350267 ,\n",
       "       0.29977348, 0.62452109, 0.13806616, 1.03529116, 0.32945862,\n",
       "       0.8153398 , 0.15168026, 0.22915813, 0.30140659, 0.14738767,\n",
       "       0.58901225, 0.43635116, 1.06571578, 0.39236327, 0.43804381,\n",
       "       0.1232813 , 0.30013235, 0.22522006, 0.34490628, 1.0117937 ,\n",
       "       0.87460213, 0.46856465, 0.0419049 , 0.05330649, 1.00535144,\n",
       "       0.70042921, 1.14596102, 0.59452252, 0.1447372 , 0.76163311,\n",
       "       0.32521691, 0.76786394, 0.42010034, 0.53030024, 0.11371412,\n",
       "       0.98598974, 0.06990105, 0.31281588, 0.17763642, 0.29291497,\n",
       "       0.49512783, 0.11810335, 0.7679465 , 0.08477738, 0.09822833,\n",
       "       0.17474046, 0.03471624, 0.5280565 , 0.27826891, 1.04954214,\n",
       "       0.51084287, 0.0491359 , 0.30236536, 0.5386482 , 0.49047565,\n",
       "       0.11972302, 0.32812086, 0.40196603, 0.13094995, 0.37853611,\n",
       "       0.32706869, 0.69105466, 0.47529561, 0.47683387, 0.08237622,\n",
       "       0.95176033, 0.26719576, 0.22801177, 1.1869019 , 0.41658148,\n",
       "       0.90621809, 0.45228648, 0.14114555, 0.11310808, 0.36734305,\n",
       "       0.26047324, 0.90617113, 0.08347461, 0.19096566, 0.36911725,\n",
       "       0.27920672, 0.45516245, 0.18458499, 0.28897473, 0.39156374,\n",
       "       0.06439177, 0.92588128, 0.57273494, 0.45988422, 0.21690966,\n",
       "       0.06033739, 0.10446757, 0.47006476, 0.45599907, 0.0541145 ,\n",
       "       0.27020159, 0.53541478, 0.82032211, 0.51094381, 0.63074685,\n",
       "       0.09518124, 0.87186572, 0.71935891, 0.23923526, 0.04303957,\n",
       "       0.72297303, 0.27685752, 0.87272679, 0.82770675, 0.21799968,\n",
       "       0.57120374, 0.06443597, 0.27273028, 0.31146979, 0.28876205,\n",
       "       0.62604287, 0.10096107, 0.22407569, 0.22578513, 0.17922673,\n",
       "       0.83076205, 0.99244796, 0.62567156, 0.30543387, 0.08721269,\n",
       "       0.74985197, 0.32362777, 0.07525038, 0.32570629, 0.9310602 ,\n",
       "       0.23770007, 0.42577675, 0.08188111, 0.28839802, 0.32934193,\n",
       "       0.60120884, 0.1543659 , 0.40375954, 0.09974172, 0.4716283 ,\n",
       "       0.32017394, 0.40052852, 1.00824849, 0.43147273, 0.49640919,\n",
       "       0.18361658, 0.87743997, 0.40349893, 0.06230126, 0.45792517,\n",
       "       1.05421915, 0.35474871, 0.44667685, 0.59362169, 0.18969154,\n",
       "       0.41649128, 0.29050238, 0.44990058, 0.44738707, 0.23707676,\n",
       "       0.59638572, 0.46204317, 1.13761996, 0.33672211, 0.44863094,\n",
       "       0.30167693, 0.03930138, 0.46576986, 0.69964883, 0.24242884,\n",
       "       1.00254597, 0.24339517, 0.31663736, 0.43580366, 0.23390925,\n",
       "       0.33994923, 0.21453421, 1.09331963, 0.72853284, 0.17294212,\n",
       "       0.21397482, 0.24439834, 0.40936843, 0.09073701, 0.55626468,\n",
       "       0.2647954 , 0.16362233, 0.50540782, 0.14073326, 0.85621665,\n",
       "       0.59213147, 0.12255362, 0.31762569, 0.75897352, 0.2971613 ,\n",
       "       0.23297353, 0.86040786, 1.13888493, 0.29272183, 0.22464168,\n",
       "       0.20062588, 0.30361729, 0.08222405, 0.18460097, 0.25807219,\n",
       "       0.09088456, 0.54042363, 0.09509548, 0.31857873, 0.48582566,\n",
       "       1.18944515, 0.54608006, 0.13989848, 0.27542108, 0.90625291,\n",
       "       1.08714047, 0.20445906, 0.27323412, 0.63364498, 0.08887871,\n",
       "       0.48076367, 0.38572816, 1.0255178 , 0.42219066, 0.03855264,\n",
       "       0.59504584, 0.29282618, 0.29097576, 0.1765942 , 0.22652958,\n",
       "       0.08492728, 0.44077769, 0.23653484, 0.1798335 , 0.03029621,\n",
       "       0.19851251, 0.35745148, 0.64220208, 0.07340866, 0.38460304,\n",
       "       0.73084688, 0.43537757, 0.56593351, 0.98397968, 0.3766056 ,\n",
       "       0.25334044, 0.31210388, 0.06831958, 0.25601594, 0.42198467,\n",
       "       0.10015871, 0.44860739, 0.43742319, 0.85046286, 0.50098951,\n",
       "       0.10332446, 0.2856345 , 0.29947203, 0.42745831, 0.30270232,\n",
       "       0.78879649, 0.21400308, 0.04453411, 0.10542544, 0.06703672,\n",
       "       0.37272965, 0.07089273, 0.14576474, 0.09982205, 0.62827812,\n",
       "       0.89656037, 0.41418352, 0.77394576, 1.05079458, 0.2836209 ,\n",
       "       0.18010115, 0.84293699, 0.36459539, 0.20268465, 0.46679201,\n",
       "       0.56225171, 0.06979387, 0.18832294, 0.36792987, 0.27874274,\n",
       "       0.61118656, 1.01193564, 0.80260896, 0.0747461 , 0.4279282 ,\n",
       "       0.08258933, 0.998494  , 0.26019324, 0.16661933, 0.06919595,\n",
       "       0.1541151 , 0.04563283, 0.41014795, 0.01059914, 0.12593468,\n",
       "       0.32553665, 0.33683002, 0.18838923, 0.30615545, 0.32286597,\n",
       "       0.39477101, 0.03625679, 0.43042231, 0.33308491, 0.39802003,\n",
       "       0.30947105, 0.92267582, 0.24408822, 0.52116995, 0.21840743,\n",
       "       0.84004634, 0.21758286, 0.58476812, 1.02664454, 0.21623732,\n",
       "       0.15361759, 0.55086578, 1.14441262, 0.29905642, 0.04859558,\n",
       "       0.09363706, 0.12660513, 0.52900467, 0.45873073, 0.11093629,\n",
       "       0.19218371, 0.29645479, 1.0527996 , 0.85518429, 0.23193423,\n",
       "       0.27612376, 0.61685392, 0.27088809, 0.23820438, 0.63295397,\n",
       "       0.12534143, 0.11916578, 0.58453635, 0.38711851, 0.25114435,\n",
       "       0.29881587, 0.26390854, 0.74244565, 0.19313833, 0.92215608,\n",
       "       0.29378855, 0.31427872, 0.33768392, 1.02723332, 0.48668218,\n",
       "       0.2791594 , 0.11615101, 0.17125194, 0.19756144, 0.11825902,\n",
       "       0.28283877, 0.0521994 , 0.26518395, 0.40176588, 1.06810225,\n",
       "       0.95784201, 0.33384805, 0.65327399, 0.34292906, 0.06518117,\n",
       "       0.41691305, 0.61905019, 0.24450729, 0.36916495, 0.21771186,\n",
       "       0.44305716, 0.40080119, 0.4704654 , 0.47926687, 0.46129821,\n",
       "       0.1767626 , 0.38969348, 0.4168941 , 0.17085841, 0.11781947,\n",
       "       0.33444008, 0.56437769, 0.2609881 , 0.05433452, 0.46051967,\n",
       "       0.14953609, 0.14595033, 0.11566959, 1.0725701 , 0.05133654,\n",
       "       0.12778152, 0.1200235 , 0.44662196, 0.29894122, 0.29302465,\n",
       "       0.46056433, 0.9942247 , 0.24649702, 0.92555176, 0.16202685,\n",
       "       0.37870729, 0.61776941, 0.29903874, 0.04528414, 0.46249494,\n",
       "       0.03295325, 0.18656767, 0.30779936, 0.83916109, 0.52710623,\n",
       "       0.67875597, 0.06444739, 0.2434758 , 1.17570624, 0.14809694,\n",
       "       0.38728222, 0.14075732, 0.32540392, 0.27166441, 0.87242349,\n",
       "       0.09937328, 1.00040826, 0.27970338, 0.93316448, 0.05775329,\n",
       "       0.29813449, 0.28019673, 0.57717896, 0.76399092, 0.48089088,\n",
       "       0.7001711 , 0.81247966, 0.21496056, 0.51788831, 0.99773499,\n",
       "       0.09300277, 0.20056409, 0.31980694, 0.93082346, 0.5277411 ,\n",
       "       0.39635186, 1.06449212, 0.52423025, 0.11241907, 0.08230054,\n",
       "       0.26913106, 0.53139743, 0.11617276, 0.90671652, 0.48362324,\n",
       "       0.35341253, 1.07668945, 0.27328998, 0.08059557, 0.62310134,\n",
       "       0.91993028, 0.21041838, 0.54696525, 0.32478889, 0.33774709,\n",
       "       0.09264004, 0.98169136, 0.64846191, 0.15466448, 0.31675757,\n",
       "       0.0910415 , 0.68983023, 0.40034191, 0.2361479 , 0.32413988,\n",
       "       0.30458181, 0.05440421, 0.32016664, 0.36769537, 0.83978473,\n",
       "       1.01581607, 0.21291275, 0.27679887, 0.12601387, 0.16044499,\n",
       "       0.29715072, 0.55489285, 0.0748012 , 0.17101593, 0.36927243,\n",
       "       0.22353161, 0.15338761, 0.88975534, 0.192982  , 0.1444528 ,\n",
       "       0.44310662, 0.08545919, 0.13136659, 0.10548757, 0.0612977 ,\n",
       "       1.06087888, 0.24560936, 0.53076055, 0.18406993, 0.11325293,\n",
       "       0.63382404, 0.52341779, 0.04236305, 1.16561647, 0.62186463,\n",
       "       0.23882044, 0.08126679, 0.05343978, 1.12703131, 0.08555915,\n",
       "       0.66765754, 0.43388512, 0.84482292, 0.62826594, 1.2181124 ,\n",
       "       0.75362074, 0.96710484, 0.56829136, 0.50792419, 0.1914192 ,\n",
       "       0.88849284, 0.28682232, 1.1690235 , 0.64016897, 0.1272015 ,\n",
       "       0.29724524, 0.28241783, 0.13467826, 0.44406972, 0.29361111,\n",
       "       0.14800724, 0.43769416, 0.3722788 , 0.35332173, 0.92747076,\n",
       "       0.13422237, 0.08820627, 0.15240642, 0.33482994, 0.55086598,\n",
       "       0.26690341, 0.99632188, 0.5325797 , 0.35672679, 0.59609431,\n",
       "       0.89293504, 0.2554073 , 0.24830262, 0.26720915, 0.32822092,\n",
       "       0.37853497, 0.02527694, 0.33137409, 1.03582929, 0.25070007,\n",
       "       0.30107699, 1.06368908, 0.05994054, 0.59451033, 0.00845411,\n",
       "       0.19692705, 0.05281499, 0.59794449, 0.10369776, 0.79583488,\n",
       "       0.44150514, 0.29744841, 0.14716499, 0.0429829 , 0.39237875,\n",
       "       0.12904154, 0.25305426, 0.28134334, 0.08917083, 0.12717148,\n",
       "       0.12043148, 0.19345196, 0.6030483 , 0.1198708 , 0.50982273,\n",
       "       0.32106472, 0.27074795, 1.17915857, 0.63005651, 0.29011969,\n",
       "       0.65268164, 0.33309926, 1.16238171, 0.4957404 , 0.33858344])"
      ]
     },
     "execution_count": 8,
     "metadata": {},
     "output_type": "execute_result"
    }
   ],
   "source": [
    "z"
   ]
  }
 ],
 "metadata": {
  "kernelspec": {
   "display_name": "Python 3",
   "language": "python",
   "name": "python3"
  },
  "language_info": {
   "codemirror_mode": {
    "name": "ipython",
    "version": 3
   },
   "file_extension": ".py",
   "mimetype": "text/x-python",
   "name": "python",
   "nbconvert_exporter": "python",
   "pygments_lexer": "ipython3",
   "version": "3.8.8"
  }
 },
 "nbformat": 4,
 "nbformat_minor": 5
}
