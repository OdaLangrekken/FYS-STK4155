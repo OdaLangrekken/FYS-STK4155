{
 "cells": [
  {
   "cell_type": "code",
   "execution_count": 1,
   "id": "6ed95b5e",
   "metadata": {},
   "outputs": [],
   "source": [
    "import os\n",
    "import sys\n",
    "\n",
    "current_path = os.getcwd()\n",
    "sys.path.append(current_path + '\\..')\n",
    "\n",
    "import numpy as np\n",
    "import pandas as pd\n",
    "from sklearn.model_selection import cross_val_score\n",
    "from sklearn.linear_model import LinearRegression\n",
    "import matplotlib.pyplot as plt\n",
    "from sklearn.model_selection import train_test_split\n",
    "\n",
    "# Import self-made modules\n",
    "from project1_code.linear_model import LinearModel\n",
    "from project1_code.make_and_prepare_data import FrankeFunction, create_design_matrix\n",
    "from project1_code.model_selection import R2, MSE, cross_validation\n",
    "\n",
    "# Import plotting functions\n",
    "from project1_code.plotting import plot_mse_per_poldegree, plot_R2_per_poldegree"
   ]
  },
  {
   "cell_type": "code",
   "execution_count": 3,
   "id": "cd5bd9da",
   "metadata": {},
   "outputs": [],
   "source": [
    "# Choose parameters for model\n",
    "pol_degree = 10\n",
    "data_size = 600\n",
    "error_std = 0.1\n",
    "test_size = 0.2"
   ]
  },
  {
   "cell_type": "code",
   "execution_count": 4,
   "id": "e1e89ed9",
   "metadata": {},
   "outputs": [],
   "source": [
    "np.random.seed(5)\n",
    "# Make data\n",
    "x = np.random.uniform(0, 1, data_size)\n",
    "y = np.random.uniform(0, 1, data_size)\n",
    "\n",
    "z = FrankeFunction(x, y) + np.random.normal(loc=0, scale=error_std)"
   ]
  },
  {
   "cell_type": "code",
   "execution_count": null,
   "id": "ac0fa146",
   "metadata": {},
   "outputs": [],
   "source": []
  },
  {
   "cell_type": "code",
   "execution_count": 12,
   "id": "b3b8b572",
   "metadata": {},
   "outputs": [
    {
     "name": "stdout",
     "output_type": "stream",
     "text": [
      "[0.36482519 0.1781811  1.03084244 0.95042521 1.12474466 0.57385892\n",
      " 0.42597027 1.2518043  0.35838161 0.23744351 0.37625072 0.42273369\n",
      " 0.21164733 0.52880235 0.28527288 1.0060456  0.66988571 0.53244329\n",
      " 0.16498343 0.35505419 0.41672722 0.20171562 0.21934047 0.37133459]\n",
      "[0.36482519 0.1781811  1.03084244 0.95042521 1.12474466 0.57385892\n",
      " 0.42597027 1.2518043  0.35838161 0.23744351 0.37625072 0.42273369\n",
      " 0.21164733 0.52880235 0.28527288 1.0060456  0.66988571 0.53244329\n",
      " 0.16498343 0.35505419 0.41672722 0.20171562 0.21934047 0.37133459]\n",
      "[0.36482519 0.1781811  1.03084244 0.95042521 1.12474466 0.57385892\n",
      " 0.42597027 1.2518043  0.35838161 0.23744351 0.37625072 0.42273369\n",
      " 0.21164733 0.52880235 0.28527288 1.0060456  0.66988571 0.53244329\n",
      " 0.16498343 0.35505419 0.41672722 0.20171562 0.21934047 0.37133459]\n",
      "[0.36482519 0.1781811  1.03084244 0.95042521 1.12474466 0.57385892\n",
      " 0.42597027 1.2518043  0.35838161 0.23744351 0.37625072 0.42273369\n",
      " 0.21164733 0.52880235 0.28527288 1.0060456  0.66988571 0.53244329\n",
      " 0.16498343 0.35505419 0.41672722 0.20171562 0.21934047 0.37133459]\n",
      "[0.36482519 0.1781811  1.03084244 0.95042521 1.12474466 0.57385892\n",
      " 0.42597027 1.2518043  0.35838161 0.23744351 0.37625072 0.42273369\n",
      " 0.21164733 0.52880235 0.28527288 1.0060456  0.66988571 0.53244329\n",
      " 0.16498343 0.35505419 0.41672722 0.20171562 0.21934047 0.37133459]\n",
      "[0.36482519 0.1781811  1.03084244 0.95042521 1.12474466 0.57385892\n",
      " 0.42597027 1.2518043  0.35838161 0.23744351 0.37625072 0.42273369\n",
      " 0.21164733 0.52880235 0.28527288 1.0060456  0.66988571 0.53244329\n",
      " 0.16498343 0.35505419 0.41672722 0.20171562 0.21934047 0.37133459]\n",
      "[0.36482519 0.1781811  1.03084244 0.95042521 1.12474466 0.57385892\n",
      " 0.42597027 1.2518043  0.35838161 0.23744351 0.37625072 0.42273369\n",
      " 0.21164733 0.52880235 0.28527288 1.0060456  0.66988571 0.53244329\n",
      " 0.16498343 0.35505419 0.41672722 0.20171562 0.21934047 0.37133459]\n",
      "[0.36482519 0.1781811  1.03084244 0.95042521 1.12474466 0.57385892\n",
      " 0.42597027 1.2518043  0.35838161 0.23744351 0.37625072 0.42273369\n",
      " 0.21164733 0.52880235 0.28527288 1.0060456  0.66988571 0.53244329\n",
      " 0.16498343 0.35505419 0.41672722 0.20171562 0.21934047 0.37133459]\n",
      "[0.36482519 0.1781811  1.03084244 0.95042521 1.12474466 0.57385892\n",
      " 0.42597027 1.2518043  0.35838161 0.23744351 0.37625072 0.42273369\n",
      " 0.21164733 0.52880235 0.28527288 1.0060456  0.66988571 0.53244329\n",
      " 0.16498343 0.35505419 0.41672722 0.20171562 0.21934047 0.37133459]\n",
      "[0.36482519 0.1781811  1.03084244 0.95042521 1.12474466 0.57385892\n",
      " 0.42597027 1.2518043  0.35838161 0.23744351 0.37625072 0.42273369\n",
      " 0.21164733 0.52880235 0.28527288 1.0060456  0.66988571 0.53244329\n",
      " 0.16498343 0.35505419 0.41672722 0.20171562 0.21934047 0.37133459]\n"
     ]
    },
    {
     "data": {
      "image/png": "[encoded data removed]",
      "text/plain": [
       "<Figure size 432x288 with 1 Axes>"
      ]
     },
     "metadata": {
      "needs_background": "light"
     },
     "output_type": "display_data"
    }
   ],
   "source": [
    "mse_bs_train = []\n",
    "mse_bs_test = []\n",
    "mses_test = []\n",
    "mses_train =[]\n",
    "for i in range(1, pol_degree + 1):\n",
    "    X = create_design_matrix(x, y, i)\n",
    "    # Split data in train and test\n",
    "    X_train, X_test, z_train, z_test = train_test_split(X, z, test_size = test_size, random_state=1)\n",
    "    print(z_train)\n",
    "    \n",
    "    # Train model\n",
    "    lr = LinearModel()\n",
    "    lr.fit(X_train, z_train)\n",
    "    \n",
    "    # Made predictions on train and test set\n",
    "    z_pred_test = lr.predict(X_test)\n",
    "    z_pred_train = lr.predict(X_train)\n",
    "    \n",
    "    # Calculate errors for test set\n",
    "    mses_test.append(MSE(z_test, z_pred_test))\n",
    "    # Calculate errors for train set\n",
    "    mses_train.append(MSE(z_train, z_pred_train))\n",
    "    \n",
    "#    mse_test, mse_sample = bootstrap(X, z, 5, sample_size=0.8)\n",
    "#    mse_bs_train.append(mse_sample)\n",
    "#   mse_bs_test.append(mse_test)\n",
    "plot_mse_per_poldegree([mses_train, mses_test], ['Train', 'Test'], pol_degree)\n",
    "#plot_mse_per_poldegree([mses_train, mses_test, mse_bs_train, mse_bs_test], ['Train', 'Test', 'Trainbs', 'Testbs'], pol_degree)"
   ]
  },
  {
   "cell_type": "code",
   "execution_count": 5,
   "id": "8134b791",
   "metadata": {},
   "outputs": [
    {
     "name": "stdout",
     "output_type": "stream",
     "text": [
      "[]\n"
     ]
    }
   ],
   "source": [
    "print(mse_bs_test)"
   ]
  },
  {
   "cell_type": "code",
   "execution_count": 6,
   "id": "f058bf8f",
   "metadata": {},
   "outputs": [
    {
     "data": {
      "text/plain": [
       "[0.024432074764141096,\n",
       " 0.017541744171243323,\n",
       " 0.007997238242482533,\n",
       " 0.003992644159099068,\n",
       " 0.001893464483431372,\n",
       " 0.0015197977828544935,\n",
       " 0.0010307135513811753,\n",
       " 0.0005738496011436454,\n",
       " 0.0006438983607088796,\n",
       " 0.0004299634842867288]"
      ]
     },
     "execution_count": 6,
     "metadata": {},
     "output_type": "execute_result"
    }
   ],
   "source": [
    "mses_test"
   ]
  }
 ],
 "metadata": {
  "kernelspec": {
   "display_name": "Python 3",
   "language": "python",
   "name": "python3"
  },
  "language_info": {
   "codemirror_mode": {
    "name": "ipython",
    "version": 3
   },
   "file_extension": ".py",
   "mimetype": "text/x-python",
   "name": "python",
   "nbconvert_exporter": "python",
   "pygments_lexer": "ipython3",
   "version": "3.8.8"
  }
 },
 "nbformat": 4,
 "nbformat_minor": 5
}
